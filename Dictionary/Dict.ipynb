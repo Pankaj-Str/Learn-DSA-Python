{
 "cells": [
  {
   "cell_type": "code",
   "execution_count": 1,
   "metadata": {},
   "outputs": [
    {
     "name": "stdout",
     "output_type": "stream",
     "text": [
      "<class 'dict'>\n"
     ]
    }
   ],
   "source": [
    "# empty dict \n",
    "\n",
    "data = {}\n",
    "\n",
    "# check datatype \n",
    "print(type(data))  # Output: <class 'dict'>"
   ]
  },
  {
   "cell_type": "code",
   "execution_count": 11,
   "metadata": {},
   "outputs": [
    {
     "name": "stdout",
     "output_type": "stream",
     "text": [
      "{'name': 'joy', 'height': 5.6, 'age': 23}\n",
      "y\n"
     ]
    }
   ],
   "source": [
    "# create a dict\n",
    "\n",
    "data = {'name':'joy','height':5.6,'age':23}\n",
    "\n",
    "print(data)\n",
    "\n",
    "# access data\n",
    "\n",
    "print(data['name'][2])"
   ]
  },
  {
   "cell_type": "code",
   "execution_count": 12,
   "metadata": {},
   "outputs": [
    {
     "name": "stdout",
     "output_type": "stream",
     "text": [
      "{'name': ['joy', 'Rohan', 'Krish', 'Riya'], 'height': [5.6, 3.4, 4.5, 4.4], 'age': [23, 34, 56, 12]}\n",
      "Rohan\n",
      "h\n"
     ]
    }
   ],
   "source": [
    "data1 = {'name':['joy','Rohan','Krish','Riya'],'height':[5.6,3.4,4.5,4.4],'age':[23,34,56,12]}\n",
    "\n",
    "print(data1)\n",
    "\n",
    "print(data1['name'][1])\n",
    "print(data1['name'][1][2])"
   ]
  },
  {
   "cell_type": "code",
   "execution_count": 13,
   "metadata": {},
   "outputs": [
    {
     "name": "stdout",
     "output_type": "stream",
     "text": [
      "{'name': 'joy', 'height': 5.6, 'age': 23, 'city': 'mumbai'}\n"
     ]
    }
   ],
   "source": [
    "# add new \n",
    "\n",
    "data['city'] = 'mumbai'\n",
    "print(data)"
   ]
  },
  {
   "cell_type": "code",
   "execution_count": 14,
   "metadata": {},
   "outputs": [
    {
     "name": "stdout",
     "output_type": "stream",
     "text": [
      "{'name': 'joy', 'height': 5.6, 'age': 34, 'city': 'mumbai'}\n"
     ]
    }
   ],
   "source": [
    "# update data \n",
    "\n",
    "data['age'] = 34\n",
    "print(data)"
   ]
  },
  {
   "cell_type": "code",
   "execution_count": null,
   "metadata": {},
   "outputs": [
    {
     "name": "stdout",
     "output_type": "stream",
     "text": [
      "dict_keys(['name', 'height', 'age', 'city'])\n",
      "dict_values(['joy', 5.6, 34, 'mumbai'])\n"
     ]
    }
   ],
   "source": [
    "# keys()\n",
    "\n",
    "print(data.keys())\n",
    "\n",
    "# values()\n",
    "\n",
    "print(data.values())\n"
   ]
  },
  {
   "cell_type": "code",
   "execution_count": 17,
   "metadata": {},
   "outputs": [],
   "source": [
    "del data['city']"
   ]
  },
  {
   "cell_type": "code",
   "execution_count": 18,
   "metadata": {},
   "outputs": [
    {
     "name": "stdout",
     "output_type": "stream",
     "text": [
      "{'name': 'joy', 'height': 5.6, 'age': 34}\n"
     ]
    }
   ],
   "source": [
    "print(data)"
   ]
  },
  {
   "cell_type": "code",
   "execution_count": 19,
   "metadata": {},
   "outputs": [
    {
     "name": "stdout",
     "output_type": "stream",
     "text": [
      "joy\n"
     ]
    }
   ],
   "source": [
    "# get()\n",
    "print(data.get('name'))"
   ]
  },
  {
   "cell_type": "code",
   "execution_count": 20,
   "metadata": {},
   "outputs": [
    {
     "name": "stdout",
     "output_type": "stream",
     "text": [
      "remove value =  34\n",
      "{'name': 'joy', 'height': 5.6}\n"
     ]
    }
   ],
   "source": [
    "remove_value = data.pop('age')\n",
    "print('remove value = ',remove_value)\n",
    "print(data)"
   ]
  },
  {
   "cell_type": "code",
   "execution_count": 22,
   "metadata": {},
   "outputs": [
    {
     "name": "stdout",
     "output_type": "stream",
     "text": [
      "name = joy\n",
      "height = 5.6\n"
     ]
    }
   ],
   "source": [
    "for i in data:\n",
    "    print(f'{i} = {data[i]}')"
   ]
  },
  {
   "cell_type": "code",
   "execution_count": 25,
   "metadata": {},
   "outputs": [
    {
     "name": "stdout",
     "output_type": "stream",
     "text": [
      "True\n"
     ]
    }
   ],
   "source": [
    "u_data = {'name': 'joy', 'height': 5.6, 'age': 34}\n",
    "\n",
    "print('age' in u_data)"
   ]
  },
  {
   "cell_type": "code",
   "execution_count": 26,
   "metadata": {},
   "outputs": [
    {
     "name": "stdout",
     "output_type": "stream",
     "text": [
      "dict_items([('name', 'joy'), ('height', 5.6)])\n"
     ]
    }
   ],
   "source": [
    "# items()\n",
    "print(data.items())"
   ]
  }
 ],
 "metadata": {
  "kernelspec": {
   "display_name": "Python 3",
   "language": "python",
   "name": "python3"
  },
  "language_info": {
   "codemirror_mode": {
    "name": "ipython",
    "version": 3
   },
   "file_extension": ".py",
   "mimetype": "text/x-python",
   "name": "python",
   "nbconvert_exporter": "python",
   "pygments_lexer": "ipython3",
   "version": "3.13.0"
  }
 },
 "nbformat": 4,
 "nbformat_minor": 2
}
