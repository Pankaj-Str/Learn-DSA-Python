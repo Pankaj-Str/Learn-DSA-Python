{
 "cells": [
  {
   "cell_type": "code",
   "execution_count": 1,
   "metadata": {},
   "outputs": [
    {
     "name": "stdout",
     "output_type": "stream",
     "text": [
      "Stack is empty\n",
      "Size:  1\n",
      "Size:  2\n",
      "Size:  3\n",
      "Element popped from the stack is  27\n",
      "Size:  2\n"
     ]
    }
   ],
   "source": [
    "from queue import LifoQueue\n",
    "  \n",
    "# Initializing a stack\n",
    "def new():\n",
    "    stack = LifoQueue(maxsize=3)   #Fixing the stack size\n",
    "    return stack\n",
    "\n",
    "#PUSH using put(n) \n",
    "def push(stack, item):\n",
    "    if(stack.full()):                      #Checking if the stack is full\n",
    "        print(\"The stack is already full\")\n",
    "    else:\n",
    "        stack.put(item)\n",
    "        print(\"Size: \", stack.qsize())     #Determining the stack size\n",
    "\n",
    "#POP using get()\n",
    "def pop(stack):\n",
    "    if(stack.empty()):              #Checking if the stack is empty\n",
    "        print(\"Stack is empty\")\n",
    "    else:\n",
    "        print('Element popped from the stack is ', stack.get())         #Removing the last element from stack\n",
    "        print(\"Size: \", stack.qsize())\n",
    "\n",
    "stack=new()\n",
    "pop(stack)\n",
    "push(stack,32)\n",
    "push(stack,56)\n",
    "push(stack,27)\n",
    "pop(stack)"
   ]
  }
 ],
 "metadata": {
  "kernelspec": {
   "display_name": "Python 3",
   "language": "python",
   "name": "python3"
  },
  "language_info": {
   "codemirror_mode": {
    "name": "ipython",
    "version": 3
   },
   "file_extension": ".py",
   "mimetype": "text/x-python",
   "name": "python",
   "nbconvert_exporter": "python",
   "pygments_lexer": "ipython3",
   "version": "3.10.8"
  },
  "orig_nbformat": 4
 },
 "nbformat": 4,
 "nbformat_minor": 2
}
