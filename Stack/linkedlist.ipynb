{
 "cells": [
  {
   "cell_type": "code",
   "execution_count": 1,
   "metadata": {},
   "outputs": [
    {
     "name": "stdout",
     "output_type": "stream",
     "text": [
      "Stack:65 , 60 , 55 , 50 , 45 , 40 , 35 , 30 , 25 , 20\n",
      "Pop: 65\n",
      "Pop: 60\n",
      "Pop: 55\n",
      "Pop: 50\n",
      "Pop: 45\n",
      "Stack: 40 , 35 , 30 , 25 , 20\n"
     ]
    }
   ],
   "source": [
    "#Node creation\n",
    "class Node:\n",
    "\tdef __init__(self, value):\n",
    "\t\tself.value = value\n",
    "\t\tself.next = None\n",
    "\n",
    "#Stack creation\n",
    "class Stack:\n",
    "    #Stack with dummy node\n",
    "\tdef __init__(self):\n",
    "\t\tself.head = Node(\"head\")\n",
    "\t\tself.size = 0\n",
    "\n",
    "\t#  For string representation of the stack\n",
    "\tdef __str__(self):\n",
    "\t\tval = self.head.next\n",
    "\t\tshow = \"\"\n",
    "\t\twhile val:\n",
    "\t\t\tshow += str(val.value) + \" , \"\n",
    "\t\t\tval = val.next\n",
    "\t\treturn show[:-3]\n",
    "\n",
    "\t# Retrieve the size of the stack\n",
    "\tdef getSize(self):\n",
    "\t\treturn self.size\n",
    "\n",
    "\t# Check if the stack is empty\n",
    "\tdef isEmpty(self):\n",
    "\t\treturn self.size == 0\n",
    "\n",
    "\t# Retrieve the top item of the stack\n",
    "\tdef peek(self):\n",
    "\t\t# Check for empty stack.\n",
    "\t\tif self.isEmpty():\n",
    "\t\t\traise Exception(\"This is an empty stack\")\n",
    "\t\treturn self.head.next.value\n",
    "\n",
    "\t# Push operation\n",
    "\tdef push(self, value):\n",
    "\t\tnode = Node(value)\n",
    "\t\tnode.next = self.head.next\n",
    "\t\tself.head.next = node\n",
    "\t\tself.size += 1\n",
    "\n",
    "\t# Pop Operation\n",
    "\tdef pop(self):\n",
    "\t\tif self.isEmpty():\n",
    "\t\t\traise Exception(\"Stack is empty\")\n",
    "\t\tremove = self.head.next\n",
    "\t\tself.head.next = self.head.next.next\n",
    "\t\tself.size -= 1\n",
    "\t\treturn remove.value\n",
    "\n",
    "\n",
    "#Driver Code\n",
    "if __name__ == \"__main__\":\n",
    "\tstack = Stack()\n",
    "\tn=20\n",
    "\tfor i in range(1, 11):\n",
    "\t\tstack.push(n)\n",
    "\t\tn+=5\n",
    "\tprint(f\"Stack:{stack}\")\n",
    "\n",
    "\tfor i  in range(1, 6):\n",
    "\t\tremove = stack.pop()\n",
    "\t\tprint(f\"Pop: {remove}\")\n",
    "\tprint(f\"Stack: {stack}\")"
   ]
  }
 ],
 "metadata": {
  "kernelspec": {
   "display_name": "Python 3",
   "language": "python",
   "name": "python3"
  },
  "language_info": {
   "codemirror_mode": {
    "name": "ipython",
    "version": 3
   },
   "file_extension": ".py",
   "mimetype": "text/x-python",
   "name": "python",
   "nbconvert_exporter": "python",
   "pygments_lexer": "ipython3",
   "version": "3.10.8"
  },
  "orig_nbformat": 4
 },
 "nbformat": 4,
 "nbformat_minor": 2
}
