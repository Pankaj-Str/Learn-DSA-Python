{
 "cells": [
  {
   "cell_type": "code",
   "execution_count": 1,
   "metadata": {},
   "outputs": [
    {
     "name": "stdout",
     "output_type": "stream",
     "text": [
      "pushed item: 10\n",
      "pushed item: 20\n",
      "pushed item: 30\n",
      "pushed item: 40\n",
      "popped item: 40\n",
      "The stack elements are:\n",
      "10\n",
      "20\n",
      "30\n"
     ]
    }
   ],
   "source": [
    "# Stack Creation\n",
    "def create_stack():\n",
    "    stack = list()            #declaring an empty list\n",
    "    return stack\n",
    "\n",
    "\n",
    "# Checking for empty stack\n",
    "def Isempty(stack):\n",
    "    return len(stack) == 0\n",
    "\n",
    "\n",
    "# Inserting items into the stack\n",
    "def push(stack, n):\n",
    "    stack.append(n)\n",
    "    print(\"pushed item: \" + n)\n",
    "\n",
    "\n",
    "# Removal of an element from the stack\n",
    "def pop(stack):\n",
    "    if (Isempty(stack)):\n",
    "        return \"stack is empty\"\n",
    "    else:\n",
    "        return stack.pop()\n",
    "\n",
    "# Displaying the stack elements\n",
    "def show(stack):\n",
    "    print(\"The stack elements are:\")\n",
    "    for i in stack:\n",
    "        print(i)\n",
    "        \n",
    "stack = create_stack()\n",
    "push(stack, str(10))\n",
    "push(stack, str(20))\n",
    "push(stack, str(30))\n",
    "push(stack, str(40))\n",
    "print(\"popped item: \" + pop(stack))\n",
    "show(stack)"
   ]
  }
 ],
 "metadata": {
  "kernelspec": {
   "display_name": "Python 3",
   "language": "python",
   "name": "python3"
  },
  "language_info": {
   "codemirror_mode": {
    "name": "ipython",
    "version": 3
   },
   "file_extension": ".py",
   "mimetype": "text/x-python",
   "name": "python",
   "nbconvert_exporter": "python",
   "pygments_lexer": "ipython3",
   "version": "3.10.8"
  },
  "orig_nbformat": 4
 },
 "nbformat": 4,
 "nbformat_minor": 2
}
