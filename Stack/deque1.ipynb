{
 "cells": [
  {
   "cell_type": "code",
   "execution_count": 1,
   "metadata": {},
   "outputs": [
    {
     "name": "stdout",
     "output_type": "stream",
     "text": [
      "Stack elements are:\n",
      "deque([25, 56, 32])\n",
      "Element popped from stack:\n",
      "32\n",
      "Stack elements are:\n",
      "deque([25, 56])\n"
     ]
    }
   ],
   "source": [
    "from collections import deque  \n",
    "\n",
    "def create_stack():  \n",
    "    stack = deque()    #Creating empty deque\n",
    "    return stack \n",
    "  \n",
    "# PUSH operation using append()\n",
    "def push(stack, item):\n",
    "    stack.append(item)\n",
    "\n",
    "  \n",
    "#POP operation\n",
    "def pop(stack):\n",
    "    if(stack):\n",
    "        print('Element popped from stack:')\n",
    "        print(stack.pop())\n",
    "    else:\n",
    "        print('Stack is empty')\n",
    "    \n",
    "\n",
    "#Displaying Stack\n",
    "def show(stack):\n",
    "    print('Stack elements are:')\n",
    "    print(stack)\n",
    "    \n",
    "new_stack=create_stack()\n",
    "push(new_stack,25)\n",
    "push(new_stack,56)\n",
    "push(new_stack,32)\n",
    "show(new_stack)\n",
    "\n",
    "pop(new_stack)\n",
    "show(new_stack)"
   ]
  }
 ],
 "metadata": {
  "kernelspec": {
   "display_name": "Python 3",
   "language": "python",
   "name": "python3"
  },
  "language_info": {
   "codemirror_mode": {
    "name": "ipython",
    "version": 3
   },
   "file_extension": ".py",
   "mimetype": "text/x-python",
   "name": "python",
   "nbconvert_exporter": "python",
   "pygments_lexer": "ipython3",
   "version": "3.10.8"
  },
  "orig_nbformat": 4
 },
 "nbformat": 4,
 "nbformat_minor": 2
}
