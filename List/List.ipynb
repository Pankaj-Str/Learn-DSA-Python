{
 "cells": [
  {
   "cell_type": "code",
   "execution_count": 1,
   "metadata": {},
   "outputs": [
    {
     "name": "stdout",
     "output_type": "stream",
     "text": [
      "['math', 'science', 'english', 'history']\n"
     ]
    }
   ],
   "source": [
    "# list in python\n",
    "\n",
    "# list is a collection of items in a particular order\n",
    "# list is mutable\n",
    "# list is defined by square brackets []\n",
    "\n",
    "# creating a list\n",
    "\n",
    "\n",
    "course = ['math', 'science', 'english', 'history']  # list of strings\n",
    "\n",
    "print(course)\n"
   ]
  },
  {
   "cell_type": "code",
   "execution_count": 2,
   "metadata": {},
   "outputs": [
    {
     "name": "stdout",
     "output_type": "stream",
     "text": [
      "[1, 2, 3, 4, 5, 6, 7, 8, 9]\n"
     ]
    }
   ],
   "source": [
    "# int list\n",
    "numbers = [1, 2, 3, 4, 5, 6, 7, 8, 9]\n",
    "print(numbers)"
   ]
  },
  {
   "cell_type": "code",
   "execution_count": 3,
   "metadata": {},
   "outputs": [
    {
     "name": "stdout",
     "output_type": "stream",
     "text": [
      "['math', 1, 'science', 2, 'english', 3, 5.6]\n"
     ]
    }
   ],
   "source": [
    "# mixed list\n",
    "mixed = ['math', 1, 'science', 2, 'english', 3 ,5.6]\n",
    "print(mixed)"
   ]
  },
  {
   "cell_type": "code",
   "execution_count": 4,
   "metadata": {},
   "outputs": [
    {
     "name": "stdout",
     "output_type": "stream",
     "text": [
      "['math', [1, 2, 3], 'science', [4, 5, 6], 'english', [7, 8, 9]]\n"
     ]
    }
   ],
   "source": [
    "# nested list\n",
    "\n",
    "nested = ['math', [1, 2, 3], 'science', [4, 5, 6], 'english', [7, 8, 9]]\n",
    "print(nested)"
   ]
  },
  {
   "cell_type": "code",
   "execution_count": 8,
   "metadata": {},
   "outputs": [
    {
     "name": "stdout",
     "output_type": "stream",
     "text": [
      "math\n",
      "science\n",
      "history\n"
     ]
    }
   ],
   "source": [
    "# indexing in list\n",
    "\n",
    "# index          0         1         2           3\n",
    "data        = ['math', 'science', 'english', 'history']\n",
    "# nagative index  -4        -3        -2         -1\n",
    "\n",
    "# access data from list\n",
    "\n",
    "print(data[0])  # math\n",
    "\n",
    "print(data[1])  # science\n",
    "\n",
    "\n",
    "print(data[-1])  # history\n"
   ]
  },
  {
   "cell_type": "code",
   "execution_count": 11,
   "metadata": {},
   "outputs": [
    {
     "name": "stdout",
     "output_type": "stream",
     "text": [
      "['math', 'science']\n",
      "['math', 'science', 'english']\n",
      "['math', 'science', 'english', 'history']\n",
      "['science', 'english', 'history']\n",
      "['math', 'science', 'english']\n"
     ]
    }
   ],
   "source": [
    "# slicing in list\n",
    "\n",
    "print(data[0:2])  # ['math', 'science']\n",
    "print(data[0:3])  # ['math', 'science', 'english']\n",
    "\n",
    "print(data[:])  # ['math', 'science']\n",
    "\n",
    "print(data[1:])  # ['science', 'english', 'history']\n",
    "\n",
    "print(data[:2])  # ['math', 'science']"
   ]
  },
  {
   "cell_type": "code",
   "execution_count": 12,
   "metadata": {},
   "outputs": [
    {
     "name": "stdout",
     "output_type": "stream",
     "text": [
      "['mathematics', 'science', 'english', 'history']\n"
     ]
    }
   ],
   "source": [
    "# modifying list\n",
    "\n",
    "# changing element in list\n",
    "\n",
    "data[0] = 'mathematics'\n",
    "\n",
    "print(data)  # ['mathematics', 'science', 'english', 'history']"
   ]
  },
  {
   "cell_type": "code",
   "execution_count": 13,
   "metadata": {},
   "outputs": [
    {
     "name": "stdout",
     "output_type": "stream",
     "text": [
      "['mathematics', 'science', 'english', 'history', 'geography']\n"
     ]
    }
   ],
   "source": [
    "# adding element in list\n",
    "\n",
    "# append() method\n",
    "# append() method add element at the end of the list with single argument\n",
    "data.append('geography')\n",
    "print(data)  # ['mathematics', 'science', 'english', 'history', 'geography']"
   ]
  },
  {
   "cell_type": "code",
   "execution_count": 14,
   "metadata": {},
   "outputs": [
    {
     "name": "stdout",
     "output_type": "stream",
     "text": [
      "['mathematics', 'chemistry', 'science', 'english', 'history', 'geography']\n"
     ]
    }
   ],
   "source": [
    "# insert() method\n",
    "# insert() method add element at the specified index with two argument\n",
    "\n",
    "data.insert(1, 'chemistry')\n",
    "print(data)  # ['mathematics', 'chemistry', 'science', 'english', 'history', 'geography']"
   ]
  },
  {
   "cell_type": "code",
   "execution_count": 15,
   "metadata": {},
   "outputs": [
    {
     "name": "stdout",
     "output_type": "stream",
     "text": [
      "['mathematics', 'chemistry', 'science', 'english', 'history', 'geography', 'computer', 'programming']\n"
     ]
    }
   ],
   "source": [
    "# extend() method\n",
    "# extend() method add multiple element at the end of the list with single argument\n",
    "newdata = ['computer', 'programming']\n",
    "data.extend(newdata)\n",
    "\n",
    "print(data)  # ['mathematics', 'chemistry', 'science', 'english', 'history', 'geography', 'computer', 'programming']"
   ]
  },
  {
   "cell_type": "code",
   "execution_count": 16,
   "metadata": {},
   "outputs": [
    {
     "name": "stdout",
     "output_type": "stream",
     "text": [
      "['mathematics', 'chemistry', 'science', 'english', 'history', 'geography', 'programming']\n"
     ]
    }
   ],
   "source": [
    "# removing element from list\n",
    "\n",
    "# remove() method\n",
    "\n",
    "data.remove('computer')\n",
    "print(data)  # ['mathematics', 'chemistry', 'science', 'english', 'history', 'geography', 'programming']"
   ]
  },
  {
   "cell_type": "code",
   "execution_count": 18,
   "metadata": {},
   "outputs": [
    {
     "name": "stdout",
     "output_type": "stream",
     "text": [
      "['mathematics', 'chemistry', 'science', 'english', 'history']\n"
     ]
    }
   ],
   "source": [
    "# pop() method\n",
    "# pop() method remove element from the end of the list\n",
    "\n",
    "data.pop()\n",
    "print(data)  # ['mathematics', 'chemistry', 'science', 'english', 'history', 'geography']"
   ]
  },
  {
   "cell_type": "code",
   "execution_count": 19,
   "metadata": {},
   "outputs": [
    {
     "name": "stdout",
     "output_type": "stream",
     "text": [
      "['mathematics', 'chemistry', 'science', 'history']\n"
     ]
    }
   ],
   "source": [
    "# pop() method with index\n",
    "\n",
    "data.pop(3)\n",
    "print(data)  # ['mathematics', 'chemistry', 'science', 'history', 'geography']\n"
   ]
  },
  {
   "cell_type": "code",
   "execution_count": 20,
   "metadata": {},
   "outputs": [
    {
     "name": "stdout",
     "output_type": "stream",
     "text": [
      "['mathematics', 'science', 'history']\n"
     ]
    }
   ],
   "source": [
    "# del statement\n",
    "# del statement remove element from the list\n",
    "# del statement is used to delete the element from the list\n",
    "\n",
    "del data[1]\n",
    "print(data)  # ['mathematics', 'science', 'history', 'geography']"
   ]
  },
  {
   "cell_type": "code",
   "execution_count": 22,
   "metadata": {},
   "outputs": [
    {
     "name": "stdout",
     "output_type": "stream",
     "text": [
      "['mathematics']\n"
     ]
    }
   ],
   "source": [
    "# del statement with slicing\n",
    "del data[1:3]  # delete elements at index 1 and 2\n",
    "print(data)  # ['mathematics', 'geography']"
   ]
  },
  {
   "cell_type": "code",
   "execution_count": 23,
   "metadata": {},
   "outputs": [
    {
     "name": "stdout",
     "output_type": "stream",
     "text": [
      "[]\n"
     ]
    }
   ],
   "source": [
    "# clear() method\n",
    "# clear() method remove all the element from the list\n",
    "data.clear()\n",
    "print(data)  # []"
   ]
  },
  {
   "cell_type": "code",
   "execution_count": 24,
   "metadata": {},
   "outputs": [
    {
     "name": "stdout",
     "output_type": "stream",
     "text": [
      "1\n"
     ]
    }
   ],
   "source": [
    "# index() method\n",
    "# index() method return the index of the element in the list\n",
    "\n",
    "data = ['math', 'science', 'english', 'history']\n",
    "print(data.index('science'))  # 1"
   ]
  },
  {
   "cell_type": "code",
   "execution_count": 25,
   "metadata": {},
   "outputs": [
    {
     "name": "stdout",
     "output_type": "stream",
     "text": [
      "2\n"
     ]
    }
   ],
   "source": [
    "# count() method\n",
    "\n",
    "# count() method return the number of occurance of the element in the list\n",
    "\n",
    "data = ['math', 'science', 'english', 'history', 'math', 'science', 'english', 'history']\n",
    "\n",
    "print(data.count('math'))  # 2"
   ]
  },
  {
   "cell_type": "code",
   "execution_count": 27,
   "metadata": {},
   "outputs": [
    {
     "name": "stdout",
     "output_type": "stream",
     "text": [
      "['english', 'history', 'math', 'science']\n"
     ]
    }
   ],
   "source": [
    "# sort() method\n",
    "# sort() method sort the element of the list in ascending order\n",
    "# sort() method is case sensitive\n",
    "\n",
    "data = ['math', 'science', 'english', 'history']\n",
    "data.sort()\n",
    "print(data)  # ['english', 'history', 'math', 'science']"
   ]
  },
  {
   "cell_type": "code",
   "execution_count": 28,
   "metadata": {},
   "outputs": [
    {
     "name": "stdout",
     "output_type": "stream",
     "text": [
      "['science', 'math', 'history', 'english']\n"
     ]
    }
   ],
   "source": [
    "# reverse() method\n",
    "\n",
    "# reverse() method reverse the element of the list\n",
    "data.reverse()\n",
    "print(data)  # ['science', 'math', 'history', 'english']"
   ]
  },
  {
   "cell_type": "code",
   "execution_count": 29,
   "metadata": {},
   "outputs": [
    {
     "name": "stdout",
     "output_type": "stream",
     "text": [
      "['science', 'english', 'math', 'history']\n"
     ]
    }
   ],
   "source": [
    "# move element change index\n",
    "def move_element_change_index(lst, index, new_index):\n",
    "    lst.insert(new_index, lst.pop(index))\n",
    "    return lst\n",
    "\n",
    "data = ['math', 'science', 'english', 'history']\n",
    "print(move_element_change_index(data, 0, 2))  # ['science', 'english', 'math', 'history']"
   ]
  },
  {
   "cell_type": "code",
   "execution_count": 30,
   "metadata": {},
   "outputs": [
    {
     "name": "stdout",
     "output_type": "stream",
     "text": [
      "science\n",
      "english\n",
      "math\n",
      "history\n"
     ]
    }
   ],
   "source": [
    "# print using for loop\n",
    "\n",
    "for i in data:\n",
    "    print(i)"
   ]
  },
  {
   "cell_type": "code",
   "execution_count": 31,
   "metadata": {},
   "outputs": [
    {
     "name": "stdout",
     "output_type": "stream",
     "text": [
      "5\n"
     ]
    }
   ],
   "source": [
    "# len() function\n",
    "\n",
    "# len() function return the number of element in the list\n",
    "\n",
    "data = [23, 45, 67, 89, 90]\n",
    "\n",
    "print(len(data))  # 5"
   ]
  },
  {
   "cell_type": "code",
   "execution_count": 32,
   "metadata": {},
   "outputs": [
    {
     "name": "stdout",
     "output_type": "stream",
     "text": [
      "314\n"
     ]
    }
   ],
   "source": [
    "# sum() function\n",
    "\n",
    "# sum() function return the sum of all the element in the list\n",
    "\n",
    "print(sum(data))  # 314"
   ]
  },
  {
   "cell_type": "code",
   "execution_count": 33,
   "metadata": {},
   "outputs": [
    {
     "name": "stdout",
     "output_type": "stream",
     "text": [
      "23\n"
     ]
    }
   ],
   "source": [
    "# min() function\n",
    "\n",
    "# min() function return the minimum element in the list\n",
    "\n",
    "print(min(data))  # 23"
   ]
  },
  {
   "cell_type": "code",
   "execution_count": 34,
   "metadata": {},
   "outputs": [
    {
     "name": "stdout",
     "output_type": "stream",
     "text": [
      "5\n"
     ]
    }
   ],
   "source": [
    "# max() function\n",
    "\n",
    "# max() function return the maximum element in the list\n",
    "print(max([1, 2, 3, 4, 5]))  # Output\n",
    "# 5"
   ]
  },
  {
   "cell_type": "code",
   "execution_count": 35,
   "metadata": {},
   "outputs": [
    {
     "name": "stdout",
     "output_type": "stream",
     "text": [
      "62.8\n"
     ]
    }
   ],
   "source": [
    "# average of the list\n",
    "def average(lst):\n",
    "    return sum(lst) / len(lst)\n",
    "# calculate the average of the list\n",
    "\n",
    "data = [23, 45, 67, 89, 90]\n",
    "print(average(data))  # 62.8"
   ]
  }
 ],
 "metadata": {
  "kernelspec": {
   "display_name": "Python 3",
   "language": "python",
   "name": "python3"
  },
  "language_info": {
   "codemirror_mode": {
    "name": "ipython",
    "version": 3
   },
   "file_extension": ".py",
   "mimetype": "text/x-python",
   "name": "python",
   "nbconvert_exporter": "python",
   "pygments_lexer": "ipython3",
   "version": "3.13.0"
  }
 },
 "nbformat": 4,
 "nbformat_minor": 2
}
