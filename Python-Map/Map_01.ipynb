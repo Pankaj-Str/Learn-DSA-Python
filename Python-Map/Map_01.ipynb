{
 "cells": [
  {
   "cell_type": "code",
   "execution_count": 9,
   "metadata": {},
   "outputs": [
    {
     "name": "stdout",
     "output_type": "stream",
     "text": [
      "{'Mumbai': 500045, 'pune': 560007, 'goa': 560009}\n",
      "560007\n",
      "Mumbai = 500045\n",
      "pune = 560007\n",
      "goa = 560009\n"
     ]
    }
   ],
   "source": [
    "# Creating a ChainMap\n",
    "import collections\n",
    "\n",
    "city = {'Mumbai':500045,'pune':560007,'goa':560009}\n",
    "print(city)\n",
    "\n",
    "print(city['pune'])\n",
    "\n",
    "for i in city:\n",
    "    print(i,'=',city[i])"
   ]
  },
  {
   "cell_type": "code",
   "execution_count": 12,
   "metadata": {},
   "outputs": [
    {
     "name": "stdout",
     "output_type": "stream",
     "text": [
      "ChainMap({'day1': 'Mon', 'day2': 'Tue'}, {'day3': 'Wed', 'day4': 'Thu'})\n",
      "[{'day1': 'Mon', 'day2': 'Tue'}, {'day3': 'Wed', 'day4': 'Thu'}] \n",
      "\n",
      "Keys = ['day3', 'day4', 'day1', 'day2']\n",
      "Values = ['Wed', 'Thu', 'Mon', 'Tue']\n",
      "\n"
     ]
    }
   ],
   "source": [
    "dict1 = {'day1': 'Mon', 'day2': 'Tue'}\n",
    "dict2 = {'day3': 'Wed', 'day4': 'Thu'}\n",
    "\n",
    "res = collections.ChainMap(dict1, dict2)\n",
    "\n",
    "print(res)\n",
    "\n",
    "# Creating a single dictionary\n",
    "\n",
    "print(res.maps,'\\n')\n",
    "\n",
    "\n",
    "print('Keys = {}'.format(list(res.keys())))\n",
    "\n",
    "print('Values = {}'.format(list(res.values())))\n",
    "\n",
    "print()"
   ]
  },
  {
   "cell_type": "code",
   "execution_count": 13,
   "metadata": {},
   "outputs": [
    {
     "name": "stdout",
     "output_type": "stream",
     "text": [
      "elements:\n",
      "day3 = Wed\n",
      "day4 = Thu\n",
      "day1 = Mon\n",
      "day2 = Tue\n",
      "\n"
     ]
    }
   ],
   "source": [
    "# Print all the elements from the result\n",
    "\n",
    "print('elements:')\n",
    "\n",
    "for key, val in res.items():\n",
    "\n",
    "   print('{} = {}'.format(key, val))\n",
    "\n",
    "print()"
   ]
  },
  {
   "cell_type": "code",
   "execution_count": 14,
   "metadata": {},
   "outputs": [
    {
     "name": "stdout",
     "output_type": "stream",
     "text": [
      "day3 in res: True\n",
      "day4 in res: True\n"
     ]
    }
   ],
   "source": [
    "# Find a specific value in the result\n",
    "\n",
    "print('day3 in res: {}'.format(('day1' in res)))\n",
    "\n",
    "print('day4 in res: {}'.format(('day4' in res)))"
   ]
  },
  {
   "cell_type": "code",
   "execution_count": 15,
   "metadata": {},
   "outputs": [
    {
     "name": "stdout",
     "output_type": "stream",
     "text": [
      "[{'day1': 'Mon', 'day2': 'Tue'}, {'day3': 'Wed', 'day4': 'Thu'}] \n",
      "\n",
      "[{'day3': 'Wed', 'day4': 'Thu'}, {'day1': 'Mon', 'day2': 'Tue'}] \n",
      "\n"
     ]
    }
   ],
   "source": [
    "# Map Reordering\n",
    "\n",
    "import collections\n",
    "\n",
    "\n",
    "dict1 = {'day1': 'Mon', 'day2': 'Tue'}\n",
    "\n",
    "dict2 = {'day3': 'Wed', 'day4': 'Thu'}\n",
    "\n",
    "\n",
    "res1 = collections.ChainMap(dict1, dict2)\n",
    "\n",
    "print(res1.maps,'\\n')\n",
    "\n",
    "\n",
    "res2 = collections.ChainMap(dict2, dict1)\n",
    "\n",
    "print(res2.maps,'\\n')"
   ]
  },
  {
   "cell_type": "code",
   "execution_count": 17,
   "metadata": {},
   "outputs": [
    {
     "name": "stdout",
     "output_type": "stream",
     "text": [
      "[{'day1': 'Mon', 'day2': 'Tue'}, {'day3': 'Wed', 'day4': 'Thu'}] \n",
      "\n",
      "[{'day1': 'Mon', 'day2': 'Tue'}, {'day3': 'Wed', 'day4': 'Fri'}] \n",
      "\n"
     ]
    }
   ],
   "source": [
    "# Updating Map\n",
    "dict1 = {'day1': 'Mon', 'day2': 'Tue'}\n",
    "\n",
    "dict2 = {'day3': 'Wed', 'day4': 'Thu'}\n",
    "\n",
    "\n",
    "res = collections.ChainMap(dict1, dict2)\n",
    "\n",
    "print(res.maps,'\\n')\n",
    "\n",
    "dict2['day4'] = 'Fri'\n",
    "\n",
    "print(res.maps,'\\n')"
   ]
  }
 ],
 "metadata": {
  "kernelspec": {
   "display_name": "Python 3",
   "language": "python",
   "name": "python3"
  },
  "language_info": {
   "codemirror_mode": {
    "name": "ipython",
    "version": 3
   },
   "file_extension": ".py",
   "mimetype": "text/x-python",
   "name": "python",
   "nbconvert_exporter": "python",
   "pygments_lexer": "ipython3",
   "version": "3.10.8"
  },
  "orig_nbformat": 4
 },
 "nbformat": 4,
 "nbformat_minor": 2
}
