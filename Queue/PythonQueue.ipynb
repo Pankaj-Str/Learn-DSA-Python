{
 "cells": [
  {
   "cell_type": "code",
   "execution_count": 1,
   "metadata": {},
   "outputs": [
    {
     "name": "stdout",
     "output_type": "stream",
     "text": [
      "10\n",
      "20\n",
      "30\n"
     ]
    }
   ],
   "source": [
    "import queue\n",
    "\n",
    "# Create a Queue\n",
    "my_queue = queue.Queue()\n",
    "\n",
    "# Enqueue elements\n",
    "my_queue.put(10)\n",
    "my_queue.put(20)\n",
    "my_queue.put(30)\n",
    "\n",
    "# Dequeue elements (FIFO order)\n",
    "print(my_queue.get())  # Output: 10\n",
    "print(my_queue.get())  # Output: 20\n",
    "print(my_queue.get())  # Output: 30\n"
   ]
  },
  {
   "cell_type": "code",
   "execution_count": 3,
   "metadata": {},
   "outputs": [
    {
     "name": "stdout",
     "output_type": "stream",
     "text": [
      "30\n",
      "20\n",
      "10\n"
     ]
    }
   ],
   "source": [
    "import queue\n",
    "\n",
    "# Create a LifoQueue\n",
    "my_lifo_queue = queue.LifoQueue()\n",
    "\n",
    "# Enqueue elements\n",
    "my_lifo_queue.put(10)\n",
    "my_lifo_queue.put(20)\n",
    "my_lifo_queue.put(30)\n",
    "\n",
    "# Dequeue elements (LIFO order)\n",
    "print(my_lifo_queue.get())  # Output: 30\n",
    "print(my_lifo_queue.get())  # Output: 20\n",
    "print(my_lifo_queue.get())  # Output: 10\n"
   ]
  },
  {
   "cell_type": "code",
   "execution_count": 1,
   "metadata": {},
   "outputs": [],
   "source": [
    "class Queue:\n",
    "    def __init__(self):\n",
    "        self.items = []\n",
    "\n",
    "    def is_empty(self):\n",
    "        return len(self.items) == 0\n",
    "\n",
    "    def enqueue(self, item):\n",
    "        self.items.append(item)\n",
    "\n",
    "    def dequeue(self):\n",
    "        if not self.is_empty():\n",
    "            return self.items.pop(0)\n",
    "\n",
    "    def size(self):\n",
    "        return len(self.items)\n"
   ]
  },
  {
   "cell_type": "code",
   "execution_count": 2,
   "metadata": {},
   "outputs": [
    {
     "name": "stdout",
     "output_type": "stream",
     "text": [
      "10\n",
      "20\n",
      "1\n"
     ]
    }
   ],
   "source": [
    "my_queue = Queue()\n",
    "\n",
    "my_queue.enqueue(10)\n",
    "my_queue.enqueue(20)\n",
    "my_queue.enqueue(30)\n",
    "\n",
    "print(my_queue.dequeue())  # Output: 10\n",
    "print(my_queue.dequeue())  # Output: 20\n",
    "print(my_queue.size())     # Output: 1\n"
   ]
  }
 ],
 "metadata": {
  "kernelspec": {
   "display_name": "Python 3",
   "language": "python",
   "name": "python3"
  },
  "language_info": {
   "codemirror_mode": {
    "name": "ipython",
    "version": 3
   },
   "file_extension": ".py",
   "mimetype": "text/x-python",
   "name": "python",
   "nbconvert_exporter": "python",
   "pygments_lexer": "ipython3",
   "version": "3.10.8"
  },
  "orig_nbformat": 4
 },
 "nbformat": 4,
 "nbformat_minor": 2
}
