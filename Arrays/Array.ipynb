{
 "cells": [
  {
   "cell_type": "code",
   "execution_count": null,
   "metadata": {},
   "outputs": [],
   "source": [
    "# Array in python \n",
    "\n",
    "# Array is a collection of items stored at contiguous memory locations.\n",
    "# The idea is to store multiple items of the same type together.\n",
    "\n",
    "# In Python, we can use the array module to declare arrays.\n",
    "# Array in python can be created by importing array module.\n",
    "\n",
    "# Example\n",
    "# import array as arr\n",
    "# a = arr.array('d', [1.1, 3.5, 4.5])\n",
    "\n",
    "# In the above example, 'd' is a type code. This determines the type of the array during creation.\n",
    "# d is for float.\n",
    "\n",
    "\n",
    "# Accessing array elements\n",
    "# We can access elements of an array using the index. Array in python is zero-indexed.\n",
    "# This means that the first element of an array starts at index 0.\n",
    "\n",
    "# Example\n",
    "# import array as arr\n",
    "# a = arr.array('d', [1.1, 3.5, 4.5])\n",
    "# print(a[0])\n",
    "\n",
    "# Output: 1.1"
   ]
  },
  {
   "cell_type": "code",
   "execution_count": 2,
   "metadata": {},
   "outputs": [
    {
     "name": "stdout",
     "output_type": "stream",
     "text": [
      "array('i', [1, 2, 3])\n",
      "First element: 1\n"
     ]
    }
   ],
   "source": [
    "import array as arr\n",
    "\n",
    "# creating an int array\n",
    "a = arr.array('i', [1, 2, 3])\n",
    "print(a)\n",
    "\n",
    "# access item from array \n",
    "\n",
    "print(\"First element:\", a[0])"
   ]
  },
  {
   "cell_type": "code",
   "execution_count": 3,
   "metadata": {},
   "outputs": [
    {
     "name": "stdout",
     "output_type": "stream",
     "text": [
      "Array after appending: array('i', [1, 2, 3, 4])\n"
     ]
    }
   ],
   "source": [
    "# append element to array\n",
    "a.append(4)\n",
    "print(\"Array after appending:\", a)"
   ]
  },
  {
   "cell_type": "code",
   "execution_count": 4,
   "metadata": {},
   "outputs": [
    {
     "name": "stdout",
     "output_type": "stream",
     "text": [
      "Array after inserting: array('i', [1, 5, 2, 3, 4])\n"
     ]
    }
   ],
   "source": [
    "# insert element in array - insert(index, element)\n",
    "a.insert(1,5)\n",
    "print(\"Array after inserting:\", a)"
   ]
  },
  {
   "cell_type": "code",
   "execution_count": 5,
   "metadata": {},
   "outputs": [
    {
     "name": "stdout",
     "output_type": "stream",
     "text": [
      "Array after extending: array('i', [1, 5, 2, 3, 4, 6, 7, 8])\n"
     ]
    }
   ],
   "source": [
    "# extend array - extend(iterable)\n",
    "a.extend([6,7,8])\n",
    "print(\"Array after extending:\", a)"
   ]
  },
  {
   "cell_type": "code",
   "execution_count": 6,
   "metadata": {},
   "outputs": [
    {
     "name": "stdout",
     "output_type": "stream",
     "text": [
      "Array after removing: array('i', [1, 5, 2, 4, 6, 7, 8])\n"
     ]
    }
   ],
   "source": [
    "# remove element from array - remove(element)\n",
    "a.remove(3)\n",
    "print(\"Array after removing:\", a)"
   ]
  },
  {
   "cell_type": "code",
   "execution_count": 7,
   "metadata": {},
   "outputs": [
    {
     "name": "stdout",
     "output_type": "stream",
     "text": [
      "Array after poping: array('i', [1, 5, 2, 4, 6, 7])\n"
     ]
    }
   ],
   "source": [
    "# remove last element from array - pop()\n",
    "a.pop()\n",
    "print(\"Array after poping:\", a)"
   ]
  },
  {
   "cell_type": "code",
   "execution_count": 9,
   "metadata": {},
   "outputs": [
    {
     "name": "stdout",
     "output_type": "stream",
     "text": [
      "Index of element 2: 4\n"
     ]
    }
   ],
   "source": [
    "# fetch index of element - index(element)\n",
    "print(\"Index of element 2:\", a.index(6))"
   ]
  },
  {
   "cell_type": "code",
   "execution_count": 10,
   "metadata": {},
   "outputs": [
    {
     "name": "stdout",
     "output_type": "stream",
     "text": [
      "Array after reversing: array('i', [7, 6, 4, 2, 5, 1])\n"
     ]
    }
   ],
   "source": [
    "# reverse array - reverse()\n",
    "a.reverse()\n",
    "print(\"Array after reversing:\", a)"
   ]
  },
  {
   "cell_type": "code",
   "execution_count": 11,
   "metadata": {},
   "outputs": [
    {
     "name": "stdout",
     "output_type": "stream",
     "text": [
      "Count of element 6: 1\n"
     ]
    }
   ],
   "source": [
    "# fetch count of element - count(element)\n",
    "print(\"Count of element 6:\", a.count(6))"
   ]
  },
  {
   "cell_type": "code",
   "execution_count": 12,
   "metadata": {},
   "outputs": [
    {
     "name": "stdout",
     "output_type": "stream",
     "text": [
      "Array to list: [7, 6, 4, 2, 5, 1]\n"
     ]
    }
   ],
   "source": [
    "# convert array to list - tolist()\n",
    "print(\"Array to list:\", a.tolist())"
   ]
  },
  {
   "cell_type": "code",
   "execution_count": 14,
   "metadata": {},
   "outputs": [
    {
     "name": "stdout",
     "output_type": "stream",
     "text": [
      "Sliced array: array('i', [6, 4])\n",
      "Sliced array: array('i', [6, 2])\n"
     ]
    }
   ],
   "source": [
    "# slice array - slice(start, stop, step)\n",
    "print(\"Sliced array:\", a[1:3])\n",
    "print(\"Sliced array:\", a[1:5:2])"
   ]
  },
  {
   "cell_type": "code",
   "execution_count": 17,
   "metadata": {},
   "outputs": [
    {
     "name": "stdout",
     "output_type": "stream",
     "text": [
      "Array after modifying: array('i', [10, 6, 4, 2, 5, 1])\n"
     ]
    }
   ],
   "source": [
    "# modify element in array\n",
    "a[0] = 10\n",
    "print(\"Array after modifying:\", a)"
   ]
  },
  {
   "cell_type": "code",
   "execution_count": 18,
   "metadata": {},
   "outputs": [
    {
     "name": "stdout",
     "output_type": "stream",
     "text": [
      "Array after deleting: array('i', [6, 4, 2, 5, 1])\n"
     ]
    }
   ],
   "source": [
    "# delete element from array - del\n",
    "del a[0]\n",
    "print(\"Array after deleting:\", a)"
   ]
  },
  {
   "cell_type": "code",
   "execution_count": 19,
   "metadata": {},
   "outputs": [
    {
     "name": "stdout",
     "output_type": "stream",
     "text": [
      "Array after deleting slice: array('i', [2, 5, 1])\n"
     ]
    }
   ],
   "source": [
    "# delete slice from array - del\n",
    "del a[0:2]\n",
    "print(\"Array after deleting slice:\", a)"
   ]
  },
  {
   "cell_type": "code",
   "execution_count": 20,
   "metadata": {},
   "outputs": [
    {
     "name": "stdout",
     "output_type": "stream",
     "text": [
      "Array after deleting all elements: array('i')\n"
     ]
    }
   ],
   "source": [
    "# delete all elements from array - del\n",
    "del a[:]\n",
    "print(\"Array after deleting all elements:\", a)"
   ]
  }
 ],
 "metadata": {
  "kernelspec": {
   "display_name": "Python 3",
   "language": "python",
   "name": "python3"
  },
  "language_info": {
   "codemirror_mode": {
    "name": "ipython",
    "version": 3
   },
   "file_extension": ".py",
   "mimetype": "text/x-python",
   "name": "python",
   "nbconvert_exporter": "python",
   "pygments_lexer": "ipython3",
   "version": "3.12.6"
  }
 },
 "nbformat": 4,
 "nbformat_minor": 2
}
