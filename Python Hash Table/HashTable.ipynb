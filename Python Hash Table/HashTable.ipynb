{
 "cells": [
  {
   "cell_type": "code",
   "execution_count": 1,
   "metadata": {},
   "outputs": [
    {
     "name": "stdout",
     "output_type": "stream",
     "text": [
      "this: 2\n",
      "is: 2\n",
      "a: 2\n",
      "sample: 2\n",
      "text: 2\n",
      "it: 1\n",
      "contains: 1\n",
      "words: 2\n",
      "and: 1\n",
      "are: 1\n",
      "used: 1\n",
      "to: 1\n",
      "form: 1\n",
      "sentences: 1\n",
      "just: 1\n"
     ]
    }
   ],
   "source": [
    "def count_word_frequency(text):\n",
    "    word_frequency = {}\n",
    "    words = text.split()\n",
    "\n",
    "    for word in words:\n",
    "        # Remove punctuation and convert to lowercase for case-insensitivity\n",
    "        cleaned_word = word.strip(\".,!?\").lower()\n",
    "        if cleaned_word:\n",
    "            if cleaned_word in word_frequency:\n",
    "                word_frequency[cleaned_word] += 1\n",
    "            else:\n",
    "                word_frequency[cleaned_word] = 1\n",
    "\n",
    "    return word_frequency\n",
    "\n",
    "# Example text\n",
    "text = \"This is a sample text. It contains words, and words are used to form sentences. This is just a sample text.\"\n",
    "\n",
    "# Count word frequency\n",
    "frequency = count_word_frequency(text)\n",
    "\n",
    "# Display the word frequency\n",
    "for word, count in frequency.items():\n",
    "    print(f\"{word}: {count}\")\n"
   ]
  }
 ],
 "metadata": {
  "kernelspec": {
   "display_name": "Python 3",
   "language": "python",
   "name": "python3"
  },
  "language_info": {
   "codemirror_mode": {
    "name": "ipython",
    "version": 3
   },
   "file_extension": ".py",
   "mimetype": "text/x-python",
   "name": "python",
   "nbconvert_exporter": "python",
   "pygments_lexer": "ipython3",
   "version": "3.10.8"
  },
  "orig_nbformat": 4
 },
 "nbformat": 4,
 "nbformat_minor": 2
}
