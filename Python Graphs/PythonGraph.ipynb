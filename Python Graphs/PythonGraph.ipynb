{
 "cells": [
  {
   "cell_type": "code",
   "execution_count": 1,
   "metadata": {},
   "outputs": [
    {
     "name": "stdout",
     "output_type": "stream",
     "text": [
      "True\n",
      "False\n",
      "A -> ['B', 'C']\n",
      "B -> ['A', 'C', 'D']\n",
      "C -> ['A', 'B', 'D', 'E']\n",
      "D -> ['B', 'C']\n",
      "E -> ['C']\n"
     ]
    }
   ],
   "source": [
    "class Graph:\n",
    "    def __init__(self):\n",
    "        self.graph = {}\n",
    "\n",
    "    def add_node(self, node):\n",
    "        if node not in self.graph:\n",
    "            self.graph[node] = []\n",
    "\n",
    "    def add_edge(self, node1, node2):\n",
    "        if node1 in self.graph and node2 in self.graph:\n",
    "            self.graph[node1].append(node2)\n",
    "            self.graph[node2].append(node1)  # Since it's an undirected graph\n",
    "\n",
    "    def has_edge(self, node1, node2):\n",
    "        return node1 in self.graph and node2 in self.graph[node1]\n",
    "\n",
    "# Create an instance of the graph\n",
    "my_graph = Graph()\n",
    "\n",
    "# Add nodes\n",
    "my_graph.add_node('A')\n",
    "my_graph.add_node('B')\n",
    "my_graph.add_node('C')\n",
    "my_graph.add_node('D')\n",
    "my_graph.add_node('E')\n",
    "\n",
    "# Add edges\n",
    "my_graph.add_edge('A', 'B')\n",
    "my_graph.add_edge('A', 'C')\n",
    "my_graph.add_edge('B', 'C')\n",
    "my_graph.add_edge('B', 'D')\n",
    "my_graph.add_edge('C', 'D')\n",
    "my_graph.add_edge('C', 'E')\n",
    "\n",
    "# Check for edges\n",
    "print(my_graph.has_edge('A', 'B'))  # Output: True\n",
    "print(my_graph.has_edge('A', 'E'))  # Output: False\n",
    "\n",
    "# Print the graph\n",
    "for node, neighbors in my_graph.graph.items():\n",
    "    print(f\"{node} -> {neighbors}\")\n"
   ]
  }
 ],
 "metadata": {
  "kernelspec": {
   "display_name": "Python 3",
   "language": "python",
   "name": "python3"
  },
  "language_info": {
   "codemirror_mode": {
    "name": "ipython",
    "version": 3
   },
   "file_extension": ".py",
   "mimetype": "text/x-python",
   "name": "python",
   "nbconvert_exporter": "python",
   "pygments_lexer": "ipython3",
   "version": "3.10.8"
  },
  "orig_nbformat": 4
 },
 "nbformat": 4,
 "nbformat_minor": 2
}
