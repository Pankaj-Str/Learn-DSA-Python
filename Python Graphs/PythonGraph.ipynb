{
 "cells": [
  {
   "cell_type": "code",
   "execution_count": null,
   "metadata": {},
   "outputs": [],
   "source": [
    "class Graph:\n",
    "    def __init__(self):\n",
    "        self.graph = {}\n",
    "\n",
    "    def add_node(self, node):\n",
    "        if node not in self.graph:\n",
    "            self.graph[node] = []\n",
    "\n",
    "    def add_edge(self, node1, node2):\n",
    "        if node1 in self.graph and node2 in self.graph:\n",
    "            self.graph[node1].append(node2)\n",
    "            self.graph[node2].append(node1)  # Since it's an undirected graph\n",
    "\n",
    "    def has_edge(self, node1, node2):\n",
    "        return node1 in self.graph and node2 in self.graph[node1]\n",
    "\n",
    "# Create an instance of the graph\n",
    "my_graph = Graph()\n",
    "\n",
    "# Add nodes\n",
    "my_graph.add_node('A')\n",
    "my_graph.add_node('B')\n",
    "my_graph.add_node('C')\n",
    "my_graph.add_node('D')\n",
    "my_graph.add_node('E')\n",
    "\n",
    "# Add edges\n",
    "my_graph.add_edge('A', 'B')\n",
    "my_graph.add_edge('A', 'C')\n",
    "my_graph.add_edge('B', 'C')\n",
    "my_graph.add_edge('B', 'D')\n",
    "my_graph.add_edge('C', 'D')\n",
    "my_graph.add_edge('C', 'E')\n",
    "\n",
    "# Check for edges\n",
    "print(my_graph.has_edge('A', 'B'))  # Output: True\n",
    "print(my_graph.has_edge('A', 'E'))  # Output: False\n",
    "\n",
    "# Print the graph\n",
    "for node, neighbors in my_graph.graph.items():\n",
    "    print(f\"{node} -> {neighbors}\")\n"
   ]
  }
 ],
 "metadata": {
  "language_info": {
   "name": "python"
  },
  "orig_nbformat": 4
 },
 "nbformat": 4,
 "nbformat_minor": 2
}
