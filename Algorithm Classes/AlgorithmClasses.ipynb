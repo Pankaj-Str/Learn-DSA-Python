{
 "cells": [
  {
   "cell_type": "code",
   "execution_count": 1,
   "metadata": {},
   "outputs": [
    {
     "name": "stdout",
     "output_type": "stream",
     "text": [
      "the factorial of 5 is 120 \n"
     ]
    }
   ],
   "source": [
    "# algorithm class for calculating the factorial of a number in Python. We'll create a class called FactorialCalculator:\n",
    "\n",
    "class FactorialCalculator:\n",
    "    def __init__(self):\n",
    "        pass\n",
    "\n",
    "    @staticmethod\n",
    "    def factorial(n):\n",
    "        if n == 0 or n == 1:\n",
    "            return 1\n",
    "        else :\n",
    "            return n * FactorialCalculator.factorial(n-1)\n",
    "        \n",
    "# test the FactorialCalculator class \n",
    "\n",
    "if __name__ == \"__main__\":\n",
    "    num = 5\n",
    "\n",
    "    # create an instance of FactorialCalculator class \n",
    "    calculator = FactorialCalculator()\n",
    "\n",
    "    result = calculator.factorial(num)\n",
    "    print(f'the factorial of {num} is {result} ') "
   ]
  }
 ],
 "metadata": {
  "kernelspec": {
   "display_name": "Python 3",
   "language": "python",
   "name": "python3"
  },
  "language_info": {
   "codemirror_mode": {
    "name": "ipython",
    "version": 3
   },
   "file_extension": ".py",
   "mimetype": "text/x-python",
   "name": "python",
   "nbconvert_exporter": "python",
   "pygments_lexer": "ipython3",
   "version": "3.10.8"
  },
  "orig_nbformat": 4
 },
 "nbformat": 4,
 "nbformat_minor": 2
}
