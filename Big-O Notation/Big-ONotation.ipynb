{
 "cells": [
  {
   "cell_type": "code",
   "execution_count": 1,
   "metadata": {},
   "outputs": [
    {
     "name": "stdout",
     "output_type": "stream",
     "text": [
      "Maximum elements  90\n"
     ]
    }
   ],
   "source": [
    "# Python example to find the maximum element in a list, and we'll analyze its time complexity using Big-O notation:\n",
    "\n",
    "def find_max_elements(lst):\n",
    "    if not lst:\n",
    "        return None\n",
    "    \n",
    "    max_element = lst[0]\n",
    "    for num in lst:\n",
    "        if num >max_element:\n",
    "            max_element = num\n",
    "\n",
    "    return max_element        \n",
    "\n",
    "# test the function \n",
    "\n",
    "numbers = [12,34,56,2,78,45,90]\n",
    "result = find_max_elements(numbers)\n",
    "\n",
    "print('Maximum elements ',result)\n"
   ]
  }
 ],
 "metadata": {
  "kernelspec": {
   "display_name": "Python 3",
   "language": "python",
   "name": "python3"
  },
  "language_info": {
   "codemirror_mode": {
    "name": "ipython",
    "version": 3
   },
   "file_extension": ".py",
   "mimetype": "text/x-python",
   "name": "python",
   "nbconvert_exporter": "python",
   "pygments_lexer": "ipython3",
   "version": "3.10.8"
  },
  "orig_nbformat": 4
 },
 "nbformat": 4,
 "nbformat_minor": 2
}
