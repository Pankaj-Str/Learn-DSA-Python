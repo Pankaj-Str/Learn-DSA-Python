{
 "cells": [
  {
   "cell_type": "code",
   "execution_count": 8,
   "metadata": {},
   "outputs": [
    {
     "name": "stdout",
     "output_type": "stream",
     "text": [
      "66\n",
      "0 0   0 1   0 2   \n",
      "1 0   1 1   1 2   \n",
      "2 0   2 1   2 2   \n",
      "11 22 33 \n",
      "44 55 66 \n",
      "77 88 99 \n"
     ]
    }
   ],
   "source": [
    "from array import *\n",
    "\n",
    "# create a 2d array \n",
    "\n",
    "data = [[11,22,33],[44,55,66],[77,88,99]]\n",
    "\n",
    "print(data[1][2])\n",
    "\n",
    "# print the 2d array\n",
    "# print index of 2d array\n",
    "for i in range(0,3):\n",
    "    for j in range(0,3):\n",
    "        print(i,j,\" \",end=' ')\n",
    "    print()\n",
    "\n",
    "# print the item from array   \n",
    "\n",
    "\n",
    "for i in range(0,3):\n",
    "    for j in range(0,3):\n",
    "        print(data[i][j],end=' ')\n",
    "    print()    "
   ]
  },
  {
   "cell_type": "code",
   "execution_count": 9,
   "metadata": {},
   "outputs": [
    {
     "name": "stdout",
     "output_type": "stream",
     "text": [
      "11 22 33 \n",
      "44 100 66 \n",
      "77 88 99 \n"
     ]
    }
   ],
   "source": [
    "# Modifying Elements in the 2D array\n",
    "# change the value of 55 to 100\n",
    "\n",
    "data[1][1] = 100\n",
    "\n",
    "for i in range(0,3):\n",
    "    for j in range(0,3):\n",
    "        print(data[i][j],end=' ')\n",
    "    print()"
   ]
  },
  {
   "cell_type": "code",
   "execution_count": 10,
   "metadata": {},
   "outputs": [
    {
     "name": "stdout",
     "output_type": "stream",
     "text": [
      "11 22 33 \n",
      "44 100 66 \n",
      "77 88 99 \n",
      "10 20 30 \n"
     ]
    }
   ],
   "source": [
    "# Adding Elements to the 2D array\n",
    "# add a new row to the 2D array\n",
    "\n",
    "data.append([10,20,30])\n",
    "\n",
    "for i in range(0,4):\n",
    "    for j in range(0,3):\n",
    "        print(data[i][j],end=' ')\n",
    "    print()"
   ]
  },
  {
   "cell_type": "code",
   "execution_count": 11,
   "metadata": {},
   "outputs": [
    {
     "name": "stdout",
     "output_type": "stream",
     "text": [
      "[[11 22 33]\n",
      " [44 55 66]\n",
      " [77 88 99]]\n"
     ]
    }
   ],
   "source": [
    "# using numpy to create 2d array\n",
    "\n",
    "import numpy as np\n",
    "\n",
    "data = np.array([[11,22,33],[44,55,66],[77,88,99]])\n",
    "\n",
    "print(data)"
   ]
  },
  {
   "cell_type": "code",
   "execution_count": 12,
   "metadata": {},
   "outputs": [
    {
     "name": "stdout",
     "output_type": "stream",
     "text": [
      "[[0. 0. 0.]\n",
      " [0. 0. 0.]\n",
      " [0. 0. 0.]]\n"
     ]
    }
   ],
   "source": [
    "# numpy.zeros() function to create a 2D array with all elements as 0\n",
    "\n",
    "data = np.zeros((3,3))\n",
    "print(data)"
   ]
  },
  {
   "cell_type": "code",
   "execution_count": 13,
   "metadata": {},
   "outputs": [
    {
     "name": "stdout",
     "output_type": "stream",
     "text": [
      "[[1. 1. 1.]\n",
      " [1. 1. 1.]\n",
      " [1. 1. 1.]]\n"
     ]
    }
   ],
   "source": [
    "# numpy.ones() function to create a 2D array with all elements as 1\n",
    "\n",
    "data = np.ones((3,3))\n",
    "print(data)"
   ]
  },
  {
   "cell_type": "code",
   "execution_count": 16,
   "metadata": {},
   "outputs": [
    {
     "name": "stdout",
     "output_type": "stream",
     "text": [
      "[[ 0  1  2  3]\n",
      " [ 4  5  6  7]\n",
      " [ 8  9 10 11]\n",
      " [12 13 14 15]]\n"
     ]
    }
   ],
   "source": [
    "# numpy.arange\n",
    "# numpy.arange() function to create a 2D array with a sequence of numbers\n",
    "\n",
    "data = np.arange(0,16).reshape(4,4)\n",
    "print(data)"
   ]
  }
 ],
 "metadata": {
  "kernelspec": {
   "display_name": "Python 3",
   "language": "python",
   "name": "python3"
  },
  "language_info": {
   "codemirror_mode": {
    "name": "ipython",
    "version": 3
   },
   "file_extension": ".py",
   "mimetype": "text/x-python",
   "name": "python",
   "nbconvert_exporter": "python",
   "pygments_lexer": "ipython3",
   "version": "3.12.6"
  }
 },
 "nbformat": 4,
 "nbformat_minor": 2
}
