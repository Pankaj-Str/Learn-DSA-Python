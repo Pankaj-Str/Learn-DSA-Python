{
 "cells": [
  {
   "cell_type": "code",
   "execution_count": 1,
   "metadata": {},
   "outputs": [
    {
     "name": "stdout",
     "output_type": "stream",
     "text": [
      "Requirement already satisfied: numpy in c:\\users\\comp\\appdata\\local\\programs\\python\\python313\\lib\\site-packages (2.2.1)\n",
      "Note: you may need to restart the kernel to use updated packages.\n"
     ]
    },
    {
     "name": "stderr",
     "output_type": "stream",
     "text": [
      "\n",
      "[notice] A new release of pip is available: 24.2 -> 25.0.1\n",
      "[notice] To update, run: python.exe -m pip install --upgrade pip\n"
     ]
    }
   ],
   "source": [
    "%pip install numpy"
   ]
  },
  {
   "cell_type": "code",
   "execution_count": 6,
   "metadata": {},
   "outputs": [
    {
     "name": "stdout",
     "output_type": "stream",
     "text": [
      "[23 56 45 78 89]\n",
      "<class 'numpy.ndarray'>\n",
      "(5,)\n",
      "5\n",
      "1\n"
     ]
    }
   ],
   "source": [
    "import numpy as np\n",
    "\n",
    "data1 = np.array([23,56,45,78,89])\n",
    "print(data1)\n",
    "\n",
    "# check type \n",
    "print(type(data1))\n",
    "\n",
    "# check shape\n",
    "print(data1.shape)\n",
    "\n",
    "# check size\n",
    "print(data1.size)\n",
    "\n",
    "# check dime\n",
    "print(data1.ndim)"
   ]
  },
  {
   "cell_type": "code",
   "execution_count": 12,
   "metadata": {},
   "outputs": [
    {
     "name": "stdout",
     "output_type": "stream",
     "text": [
      "[[23 56 45]\n",
      " [23 56 45]]\n",
      "<class 'numpy.ndarray'>\n",
      "(2, 3)\n",
      "6\n",
      "2\n"
     ]
    }
   ],
   "source": [
    "# 2nd array\n",
    "data1 = np.array([[23,56,45],[23,56,45]])\n",
    "print(data1)\n",
    "\n",
    "# check type \n",
    "print(type(data1))\n",
    "\n",
    "# check shape\n",
    "print(data1.shape)\n",
    "\n",
    "# check size\n",
    "print(data1.size)\n",
    "\n",
    "# check dime\n",
    "print(data1.ndim)"
   ]
  },
  {
   "cell_type": "code",
   "execution_count": 13,
   "metadata": {},
   "outputs": [
    {
     "name": "stdout",
     "output_type": "stream",
     "text": [
      "23 56 45 \n",
      "23 56 45 \n"
     ]
    }
   ],
   "source": [
    "for i in data1:\n",
    "    for n in i:\n",
    "        print(n,end=\" \")\n",
    "    print() "
   ]
  },
  {
   "cell_type": "code",
   "execution_count": 16,
   "metadata": {},
   "outputs": [
    {
     "name": "stdout",
     "output_type": "stream",
     "text": [
      "56\n"
     ]
    }
   ],
   "source": [
    "print(data1[0,1])"
   ]
  },
  {
   "cell_type": "code",
   "execution_count": 8,
   "metadata": {},
   "outputs": [
    {
     "name": "stdout",
     "output_type": "stream",
     "text": [
      "[[[23 56 45]\n",
      "  [23 56 45]]\n",
      "\n",
      " [[23 56 45]\n",
      "  [23 56 45]]]\n",
      "<class 'numpy.ndarray'>\n",
      "(2, 2, 3)\n",
      "12\n",
      "3\n"
     ]
    }
   ],
   "source": [
    "# 3nd array\n",
    "data1 = np.array([[[23,56,45],[23,56,45]],[[23,56,45],[23,56,45]]])\n",
    "print(data1)\n",
    "\n",
    "# check type \n",
    "print(type(data1))\n",
    "\n",
    "# check shape\n",
    "print(data1.shape)\n",
    "\n",
    "# check size\n",
    "print(data1.size)\n",
    "\n",
    "# check dime\n",
    "print(data1.ndim)"
   ]
  },
  {
   "cell_type": "code",
   "execution_count": 9,
   "metadata": {},
   "outputs": [
    {
     "name": "stdout",
     "output_type": "stream",
     "text": [
      "[[[[23 56 45]\n",
      "   [23 56 45]]\n",
      "\n",
      "  [[23 56 45]\n",
      "   [23 56 45]]]\n",
      "\n",
      "\n",
      " [[[23 56 45]\n",
      "   [23 56 45]]\n",
      "\n",
      "  [[23 56 45]\n",
      "   [23 56 45]]]]\n",
      "<class 'numpy.ndarray'>\n",
      "(2, 2, 2, 3)\n",
      "24\n",
      "4\n"
     ]
    }
   ],
   "source": [
    "# 4nd array\n",
    "data1 = np.array([[[[23,56,45],[23,56,45]],[[23,56,45],[23,56,45]]],[[[23,56,45],[23,56,45]],[[23,56,45],[23,56,45]]]])\n",
    "print(data1)\n",
    "\n",
    "# check type \n",
    "print(type(data1))\n",
    "\n",
    "# check shape\n",
    "print(data1.shape)\n",
    "\n",
    "# check size\n",
    "print(data1.size)\n",
    "\n",
    "# check dime\n",
    "print(data1.ndim)"
   ]
  }
 ],
 "metadata": {
  "kernelspec": {
   "display_name": "Python 3",
   "language": "python",
   "name": "python3"
  },
  "language_info": {
   "codemirror_mode": {
    "name": "ipython",
    "version": 3
   },
   "file_extension": ".py",
   "mimetype": "text/x-python",
   "name": "python",
   "nbconvert_exporter": "python",
   "pygments_lexer": "ipython3",
   "version": "3.13.0"
  }
 },
 "nbformat": 4,
 "nbformat_minor": 2
}
