{
 "cells": [
  {
   "cell_type": "code",
   "execution_count": 1,
   "metadata": {},
   "outputs": [
    {
     "name": "stdout",
     "output_type": "stream",
     "text": [
      "30\n",
      "5\n"
     ]
    }
   ],
   "source": [
    "from collections import deque\n",
    "\n",
    "# Create a deque\n",
    "my_deque = deque()\n",
    "\n",
    "# Append elements to the right (rear)\n",
    "my_deque.append(10)\n",
    "my_deque.append(20)\n",
    "my_deque.append(30)\n",
    "\n",
    "# Append elements to the left (front)\n",
    "my_deque.appendleft(5)\n",
    "\n",
    "# Deque now contains: [5, 10, 20, 30]\n",
    "\n",
    "# Pop elements from the right (rear)\n",
    "print(my_deque.pop())      # Output: 30\n",
    "\n",
    "# Pop elements from the left (front)\n",
    "print(my_deque.popleft())  # Output: 5\n",
    "\n",
    "# Deque now contains: [10, 20]\n"
   ]
  },
  {
   "cell_type": "code",
   "execution_count": 2,
   "metadata": {},
   "outputs": [
    {
     "name": "stdout",
     "output_type": "stream",
     "text": [
      "True\n",
      "False\n",
      "True\n"
     ]
    }
   ],
   "source": [
    "from collections import deque\n",
    "\n",
    "def is_palindrome(s):\n",
    "    # Create a deque from the input string, removing spaces and converting to lowercase\n",
    "    char_deque = deque(s.lower().replace(\" \", \"\"))\n",
    "\n",
    "    while len(char_deque) > 1:\n",
    "        # Compare characters from both ends of the deque\n",
    "        if char_deque.popleft() != char_deque.pop():\n",
    "            return False\n",
    "\n",
    "    return True\n",
    "\n",
    "# Test the palindrome function\n",
    "word1 = \"radar\"\n",
    "word2 = \"Python\"\n",
    "word3 = \"A man a plan a canal Panama\"\n",
    "\n",
    "print(is_palindrome(word1))    # Output: True\n",
    "print(is_palindrome(word2))    # Output: False\n",
    "print(is_palindrome(word3))    # Output: True\n"
   ]
  },
  {
   "cell_type": "code",
   "execution_count": 3,
   "metadata": {},
   "outputs": [
    {
     "name": "stdout",
     "output_type": "stream",
     "text": [
      "two\n",
      "None\n"
     ]
    }
   ],
   "source": [
    "from collections import deque\n",
    "\n",
    "class LRUCache:\n",
    "    def __init__(self, capacity):\n",
    "        self.capacity = capacity\n",
    "        self.cache = {}\n",
    "        self.queue = deque()\n",
    "\n",
    "    def get(self, key):\n",
    "        if key in self.cache:\n",
    "            # Move the accessed key to the end of the queue\n",
    "            self.queue.remove(key)\n",
    "            self.queue.append(key)\n",
    "            return self.cache[key]\n",
    "        return None\n",
    "\n",
    "    def put(self, key, value):\n",
    "        if key in self.cache:\n",
    "            # Update the value and move the key to the end of the queue\n",
    "            self.queue.remove(key)\n",
    "        elif len(self.queue) >= self.capacity:\n",
    "            # Evict the least recently used key (from the front of the queue)\n",
    "            lru_key = self.queue.popleft()\n",
    "            del self.cache[lru_key]\n",
    "        # Add the new key-value pair\n",
    "        self.cache[key] = value\n",
    "        self.queue.append(key)\n",
    "\n",
    "# Test the LRUCache\n",
    "cache = LRUCache(3)\n",
    "\n",
    "cache.put(1, \"one\")\n",
    "cache.put(2, \"two\")\n",
    "cache.put(3, \"three\")\n",
    "\n",
    "print(cache.get(2))  # Output: \"two\"\n",
    "\n",
    "cache.put(4, \"four\")\n",
    "\n",
    "print(cache.get(1))  # Output: None (evicted because of capacity)\n"
   ]
  }
 ],
 "metadata": {
  "kernelspec": {
   "display_name": "Python 3",
   "language": "python",
   "name": "python3"
  },
  "language_info": {
   "codemirror_mode": {
    "name": "ipython",
    "version": 3
   },
   "file_extension": ".py",
   "mimetype": "text/x-python",
   "name": "python",
   "nbconvert_exporter": "python",
   "pygments_lexer": "ipython3",
   "version": "3.10.8"
  },
  "orig_nbformat": 4
 },
 "nbformat": 4,
 "nbformat_minor": 2
}
