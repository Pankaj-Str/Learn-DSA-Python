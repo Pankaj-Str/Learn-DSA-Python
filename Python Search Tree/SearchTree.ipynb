{
 "cells": [
  {
   "cell_type": "code",
   "execution_count": 1,
   "metadata": {},
   "outputs": [
    {
     "name": "stdout",
     "output_type": "stream",
     "text": [
      "<__main__.Node object at 0x7f1e5ef59450>\n",
      "None\n"
     ]
    }
   ],
   "source": [
    "class Node:\n",
    "    def __init__(self, data):\n",
    "        self.data = data\n",
    "        self.left = None\n",
    "        self.right = None\n",
    "\n",
    "class BinarySearchTree:\n",
    "    def __init__(self):\n",
    "        self.root = None\n",
    "\n",
    "    def insert(self, data):\n",
    "        if not self.root:\n",
    "            self.root = Node(data)\n",
    "        else:\n",
    "            self._insert_recursive(self.root, data)\n",
    "\n",
    "    def _insert_recursive(self, current_node, data):\n",
    "        if data < current_node.data:\n",
    "            if not current_node.left:\n",
    "                current_node.left = Node(data)\n",
    "            else:\n",
    "                self._insert_recursive(current_node.left, data)\n",
    "        elif data > current_node.data:\n",
    "            if not current_node.right:\n",
    "                current_node.right = Node(data)\n",
    "            else:\n",
    "                self._insert_recursive(current_node.right, data)\n",
    "        else:\n",
    "            # Handle duplicate values (optional)\n",
    "            pass\n",
    "\n",
    "    def search(self, data):\n",
    "        return self._search_recursive(self.root, data)\n",
    "\n",
    "    def _search_recursive(self, current_node, data):\n",
    "        if not current_node or current_node.data == data:\n",
    "            return current_node\n",
    "\n",
    "        if data < current_node.data:\n",
    "            return self._search_recursive(current_node.left, data)\n",
    "        else:\n",
    "            return self._search_recursive(current_node.right, data)\n",
    "\n",
    "# Test the BinarySearchTree\n",
    "bst = BinarySearchTree()\n",
    "bst.insert(50)\n",
    "bst.insert(30)\n",
    "bst.insert(70)\n",
    "bst.insert(20)\n",
    "bst.insert(40)\n",
    "bst.insert(60)\n",
    "bst.insert(80)\n",
    "\n",
    "print(bst.search(40))          # Output: <__main__.Node object at ...>\n",
    "print(bst.search(100))         # Output: None\n"
   ]
  }
 ],
 "metadata": {
  "kernelspec": {
   "display_name": "Python 3",
   "language": "python",
   "name": "python3"
  },
  "language_info": {
   "codemirror_mode": {
    "name": "ipython",
    "version": 3
   },
   "file_extension": ".py",
   "mimetype": "text/x-python",
   "name": "python",
   "nbconvert_exporter": "python",
   "pygments_lexer": "ipython3",
   "version": "3.10.8"
  },
  "orig_nbformat": 4
 },
 "nbformat": 4,
 "nbformat_minor": 2
}
