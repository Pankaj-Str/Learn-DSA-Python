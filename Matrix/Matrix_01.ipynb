{
 "cells": [
  {
   "cell_type": "code",
   "execution_count": 3,
   "metadata": {},
   "outputs": [
    {
     "name": "stdout",
     "output_type": "stream",
     "text": [
      "[['Mon' '18' '20' '22' '17']\n",
      " ['Tue' '11' '18' '21' '18']\n",
      " ['Wed' '15' '21' '20' '19']\n",
      " ['Thu' '11' '20' '22' '21']\n",
      " ['Fri' '18' '17' '23' '22']\n",
      " ['Sat' '12' '22' '20' '18']\n",
      " ['Sun' '13' '15' '19' '16']]\n"
     ]
    }
   ],
   "source": [
    "# Matrix Example\n",
    "\n",
    "from numpy import * \n",
    "\n",
    "a = array([['Mon',18,20,22,17],['Tue',11,18,21,18],\n",
    "\n",
    "   ['Wed',15,21,20,19],['Thu',11,20,22,21],\n",
    "\n",
    "   ['Fri',18,17,23,22],['Sat',12,22,20,18],\n",
    "\n",
    "   ['Sun',13,15,19,16]])\n",
    "\n",
    "print(a)\n",
    "\n",
    "# m = reshape(a,(7,5))\n",
    "# print(m)"
   ]
  },
  {
   "cell_type": "code",
   "execution_count": 5,
   "metadata": {},
   "outputs": [
    {
     "name": "stdout",
     "output_type": "stream",
     "text": [
      "['Wed' '15' '21' '20' '19']\n",
      "21\n"
     ]
    }
   ],
   "source": [
    "# Accessing Values\n",
    "\n",
    "print(a[2])\n",
    "print(a[2][2])"
   ]
  },
  {
   "cell_type": "code",
   "execution_count": 9,
   "metadata": {},
   "outputs": [
    {
     "name": "stdout",
     "output_type": "stream",
     "text": [
      "['Mon' '18' '20' '22' '17' 'Tue' '11' '18' '21' '18' 'Wed' '15' '21' '20'\n",
      " '19' 'Thu' '11' '20' '22' '21' 'Fri' '18' '17' '23' '22' 'Sat' '12' '22'\n",
      " '20' '18' 'Sun' '13' '15' '19' '16' 'Avg' '12' '15' '13' '11']\n"
     ]
    }
   ],
   "source": [
    "# Adding a row\n",
    "\n",
    "append(a,[['Avg',12,15,13,11]])\n",
    "\n",
    "print(a)"
   ]
  },
  {
   "cell_type": "code",
   "execution_count": 20,
   "metadata": {},
   "outputs": [
    {
     "name": "stdout",
     "output_type": "stream",
     "text": [
      "[['Mon' '18' '20' '22' '17' '1']\n",
      " ['Tue' '11' '18' '21' '18' '2']\n",
      " ['Wed' '15' '21' '20' '19' '3']\n",
      " ['Thu' '11' '20' '22' '21' '4']\n",
      " ['Fri' '18' '17' '23' '22' '5']\n",
      " ['Sat' '12' '22' '20' '18' '6']\n",
      " ['Sun' '13' '15' '19' '16' '7']]\n"
     ]
    }
   ],
   "source": [
    "# Adding a column\n",
    "\n",
    "from numpy import * \n",
    "\n",
    "m = array([['Mon',18,20,22,17],['Tue',11,18,21,18],\n",
    "\n",
    "   ['Wed',15,21,20,19],['Thu',11,20,22,21],\n",
    "\n",
    "   ['Fri',18,17,23,22],['Sat',12,22,20,18],\n",
    "\n",
    "   ['Sun',13,15,19,16]])\n",
    "\n",
    "m_c = insert(m,[5],[[1],[2],[3],[4],[5],[6],[7]],1)\n",
    "\n",
    "print(m_c)\n"
   ]
  },
  {
   "cell_type": "code",
   "execution_count": 21,
   "metadata": {},
   "outputs": [
    {
     "name": "stdout",
     "output_type": "stream",
     "text": [
      "[['Mon' '18' '20' '22' '17']\n",
      " ['Tue' '11' '18' '21' '18']\n",
      " ['Thu' '11' '20' '22' '21']\n",
      " ['Fri' '18' '17' '23' '22']\n",
      " ['Sat' '12' '22' '20' '18']\n",
      " ['Sun' '13' '15' '19' '16']]\n"
     ]
    }
   ],
   "source": [
    "# Delete a row\n",
    "\n",
    "m = delete(m,[2],0)\n",
    "print(m)"
   ]
  },
  {
   "cell_type": "code",
   "execution_count": 22,
   "metadata": {},
   "outputs": [
    {
     "name": "stdout",
     "output_type": "stream",
     "text": [
      "[['Mon' '18' '22' '17']\n",
      " ['Tue' '11' '21' '18']\n",
      " ['Thu' '11' '22' '21']\n",
      " ['Fri' '18' '23' '22']\n",
      " ['Sat' '12' '20' '18']\n",
      " ['Sun' '13' '19' '16']]\n"
     ]
    }
   ],
   "source": [
    "# Delete a column\n",
    "\n",
    "m = delete(m,s_[2],1)\n",
    "print(m)"
   ]
  },
  {
   "cell_type": "code",
   "execution_count": 25,
   "metadata": {},
   "outputs": [
    {
     "name": "stdout",
     "output_type": "stream",
     "text": [
      "[['Mon' '18' '22' '17']\n",
      " ['Tue' '11' '21' '18']\n",
      " ['Thu' '0' '0' '0']\n",
      " ['Fri' '18' '23' '22']\n",
      " ['Sat' '12' '20' '18']\n",
      " ['Sun' '13' '19' '16']]\n"
     ]
    }
   ],
   "source": [
    "# Update a row\n",
    "\n",
    "m[2] = ['Thu',0,0,0]\n",
    "print(m)"
   ]
  }
 ],
 "metadata": {
  "kernelspec": {
   "display_name": "Python 3",
   "language": "python",
   "name": "python3"
  },
  "language_info": {
   "codemirror_mode": {
    "name": "ipython",
    "version": 3
   },
   "file_extension": ".py",
   "mimetype": "text/x-python",
   "name": "python",
   "nbconvert_exporter": "python",
   "pygments_lexer": "ipython3",
   "version": "3.10.8"
  },
  "orig_nbformat": 4
 },
 "nbformat": 4,
 "nbformat_minor": 2
}
