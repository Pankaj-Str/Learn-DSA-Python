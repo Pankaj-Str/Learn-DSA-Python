{
 "cells": [
  {
   "cell_type": "code",
   "execution_count": 1,
   "metadata": {},
   "outputs": [
    {
     "name": "stdout",
     "output_type": "stream",
     "text": [
      "<__main__.Node object at 0x7f4d9c546da0>\n",
      "None\n",
      "[20, 30, 40, 50, 60, 70, 80]\n"
     ]
    }
   ],
   "source": [
    "class Node:\n",
    "    def __init__(self, data):\n",
    "        self.data = data\n",
    "        self.left = None\n",
    "        self.right = None\n",
    "\n",
    "class BinaryTree:\n",
    "    def __init__(self):\n",
    "        self.root = None\n",
    "\n",
    "    def insert(self, data):\n",
    "        new_node = Node(data)\n",
    "        if not self.root:\n",
    "            self.root = new_node\n",
    "        else:\n",
    "            self._insert_recursive(self.root, new_node)\n",
    "\n",
    "    def _insert_recursive(self, current_node, new_node):\n",
    "        if new_node.data < current_node.data:\n",
    "            if not current_node.left:\n",
    "                current_node.left = new_node\n",
    "            else:\n",
    "                self._insert_recursive(current_node.left, new_node)\n",
    "        else:\n",
    "            if not current_node.right:\n",
    "                current_node.right = new_node\n",
    "            else:\n",
    "                self._insert_recursive(current_node.right, new_node)\n",
    "\n",
    "    def search(self, key):\n",
    "        return self._search_recursive(self.root, key)\n",
    "\n",
    "    def _search_recursive(self, current_node, key):\n",
    "        if not current_node or current_node.data == key:\n",
    "            return current_node\n",
    "\n",
    "        if key < current_node.data:\n",
    "            return self._search_recursive(current_node.left, key)\n",
    "        else:\n",
    "            return self._search_recursive(current_node.right, key)\n",
    "\n",
    "    def inorder_traversal(self):\n",
    "        result = []\n",
    "        self._inorder_traversal_recursive(self.root, result)\n",
    "        return result\n",
    "\n",
    "    def _inorder_traversal_recursive(self, node, result):\n",
    "        if node:\n",
    "            self._inorder_traversal_recursive(node.left, result)\n",
    "            result.append(node.data)\n",
    "            self._inorder_traversal_recursive(node.right, result)\n",
    "\n",
    "# Test the BinaryTree\n",
    "tree = BinaryTree()\n",
    "tree.insert(50)\n",
    "tree.insert(30)\n",
    "tree.insert(70)\n",
    "tree.insert(20)\n",
    "tree.insert(40)\n",
    "tree.insert(60)\n",
    "tree.insert(80)\n",
    "\n",
    "print(tree.search(40))          # Output: <__main__.Node object at ...>\n",
    "print(tree.search(100))         # Output: None\n",
    "print(tree.inorder_traversal()) # Output: [20, 30, 40, 50, 60, 70, 80]\n"
   ]
  }
 ],
 "metadata": {
  "kernelspec": {
   "display_name": "Python 3",
   "language": "python",
   "name": "python3"
  },
  "language_info": {
   "codemirror_mode": {
    "name": "ipython",
    "version": 3
   },
   "file_extension": ".py",
   "mimetype": "text/x-python",
   "name": "python",
   "nbconvert_exporter": "python",
   "pygments_lexer": "ipython3",
   "version": "3.10.8"
  },
  "orig_nbformat": 4
 },
 "nbformat": 4,
 "nbformat_minor": 2
}
