{
 "cells": [
  {
   "cell_type": "code",
   "execution_count": 2,
   "metadata": {},
   "outputs": [
    {
     "name": "stdout",
     "output_type": "stream",
     "text": [
      "Dynamic array: [1, 2, 3, 4, 5, None, None, None]\n"
     ]
    }
   ],
   "source": [
    "class DynamicArray:\n",
    "    def __init__(self):\n",
    "        self.array = [None]\n",
    "        self.size = 0\n",
    "        self.capacity = 1\n",
    "\n",
    "    def append(self, element):\n",
    "        if self.size == self.capacity:\n",
    "            self.resize(self.capacity * 2)\n",
    "\n",
    "        self.array[self.size] = element\n",
    "        self.size += 1\n",
    "\n",
    "    def resize(self, new_capacity):\n",
    "        new_array = [None] * new_capacity\n",
    "        for i in range(self.size):\n",
    "            new_array[i] = self.array[i]\n",
    "\n",
    "        self.array = new_array\n",
    "        self.capacity = new_capacity\n",
    "\n",
    "# Test the DynamicArray class\n",
    "if __name__ == \"__main__\":\n",
    "    dynamic_array = DynamicArray()\n",
    "    elements = [1, 2, 3, 4, 5]\n",
    "\n",
    "    for elem in elements:\n",
    "        dynamic_array.append(elem)\n",
    "\n",
    "    print(\"Dynamic array:\", dynamic_array.array)\n"
   ]
  }
 ],
 "metadata": {
  "kernelspec": {
   "display_name": "Python 3",
   "language": "python",
   "name": "python3"
  },
  "language_info": {
   "codemirror_mode": {
    "name": "ipython",
    "version": 3
   },
   "file_extension": ".py",
   "mimetype": "text/x-python",
   "name": "python",
   "nbconvert_exporter": "python",
   "pygments_lexer": "ipython3",
   "version": "3.10.8"
  },
  "orig_nbformat": 4
 },
 "nbformat": 4,
 "nbformat_minor": 2
}
