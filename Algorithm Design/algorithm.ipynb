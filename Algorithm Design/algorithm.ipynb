{
 "cells": [
  {
   "cell_type": "code",
   "execution_count": 1,
   "metadata": {},
   "outputs": [],
   "source": [
    "def find_max_element(lst):\n",
    "    # check if the list is empty\n",
    "    if not lst:\n",
    "        return None;\n",
    "\n",
    "    # assume the first element as the maximum\n",
    "    max_element = lst[0]\n",
    "    # Iterate through the remaning elements of the list\n",
    "    for num in lst[1:]:\n",
    "        # compare each element with the current maximum\n",
    "        if num > max_element:\n",
    "            #update the maximum if the current element is greater\n",
    "            max_element = num\n",
    "    # return the maximum element found\n",
    "    return max_element        "
   ]
  },
  {
   "cell_type": "code",
   "execution_count": 2,
   "metadata": {},
   "outputs": [
    {
     "name": "stdout",
     "output_type": "stream",
     "text": [
      "the maximum element in the list is :  9\n"
     ]
    }
   ],
   "source": [
    "# example usage:\n",
    "\n",
    "sample_list = [5,2,9,1,7,3]\n",
    "max_value = find_max_element(sample_list)\n",
    "print(\"the maximum element in the list is : \",max_value)"
   ]
  },
  {
   "cell_type": "code",
   "execution_count": null,
   "metadata": {},
   "outputs": [],
   "source": [
    "# Algorithm Design:\n",
    "\n",
    "# Start by assuming that the first element in the list is the maximum.\n",
    "# Iterate through the remaining elements of the list.\n",
    "# Compare each element with the current maximum. If the current element is greater, update the maximum.\n",
    "# After iterating through the entire list, return the maximum element found."
   ]
  },
  {
   "cell_type": "code",
   "execution_count": 2,
   "metadata": {},
   "outputs": [
    {
     "name": "stdout",
     "output_type": "stream",
     "text": [
      "sum of elsements  28\n"
     ]
    }
   ],
   "source": [
    "def sum_of_elements(lst):\n",
    "    total = 0\n",
    "    for num in lst:\n",
    "        total += num\n",
    "    return total\n",
    "\n",
    "# test the algorithm \n",
    "numbers = [1,2,3,4,5,6,7]\n",
    "result = sum_of_elements(numbers)\n",
    "print(\"sum of elsements \",result) # output "
   ]
  }
 ],
 "metadata": {
  "kernelspec": {
   "display_name": "Python 3",
   "language": "python",
   "name": "python3"
  },
  "language_info": {
   "codemirror_mode": {
    "name": "ipython",
    "version": 3
   },
   "file_extension": ".py",
   "mimetype": "text/x-python",
   "name": "python",
   "nbconvert_exporter": "python",
   "pygments_lexer": "ipython3",
   "version": "3.10.8"
  },
  "orig_nbformat": 4
 },
 "nbformat": 4,
 "nbformat_minor": 2
}
