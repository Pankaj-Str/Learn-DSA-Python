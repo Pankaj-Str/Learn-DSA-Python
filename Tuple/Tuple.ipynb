{
 "cells": [
  {
   "cell_type": "code",
   "execution_count": 6,
   "metadata": {},
   "outputs": [
    {
     "name": "stdout",
     "output_type": "stream",
     "text": [
      "()\n",
      "<class 'tuple'>\n",
      "(90, 78, 65)\n",
      "<class 'tuple'>\n",
      "<class 'int'>\n",
      "<class 'tuple'>\n"
     ]
    }
   ],
   "source": [
    "# # tuples \n",
    "\n",
    "\n",
    "data = ()\n",
    "print(data)\n",
    "print(type(data))\n",
    "\n",
    "data = 90,78,65\n",
    "print(data)\n",
    "print(type(data))\n",
    "data = (56)\n",
    "print(type(data))\n",
    "\n",
    "data = (56,)\n",
    "print(type(data))"
   ]
  },
  {
   "cell_type": "code",
   "execution_count": 10,
   "metadata": {},
   "outputs": [
    {
     "name": "stdout",
     "output_type": "stream",
     "text": [
      "<class 'int'>\n",
      "<class 'tuple'>\n",
      "<class 'int'>\n",
      "<class 'tuple'>\n"
     ]
    }
   ],
   "source": [
    "a,b,c = 23,34,56\n",
    "\n",
    "print(type(a))\n",
    "\n",
    "a,b,c = (23,34,56),(34),(34,22)\n",
    "\n",
    "print(type(a))\n",
    "print(type(b))\n",
    "print(type(c))\n"
   ]
  },
  {
   "cell_type": "code",
   "execution_count": 12,
   "metadata": {},
   "outputs": [
    {
     "name": "stdout",
     "output_type": "stream",
     "text": [
      "15\n",
      "14\n"
     ]
    }
   ],
   "source": [
    "data = (12,13,14,15,16)\n",
    "\n",
    "print(data[3])\n",
    "print(data[-3])\n"
   ]
  },
  {
   "cell_type": "code",
   "execution_count": 17,
   "metadata": {},
   "outputs": [
    {
     "name": "stdout",
     "output_type": "stream",
     "text": [
      "(13, 14)\n",
      "(12, 13, 14, 15)\n",
      "(14, 15, 16)\n",
      "(12, 13, 14, 15, 16)\n"
     ]
    }
   ],
   "source": [
    "print(data[1:3])\n",
    "print(data[:4])\n",
    "print(data[2:])\n",
    "print(data[:])\n"
   ]
  },
  {
   "cell_type": "code",
   "execution_count": 18,
   "metadata": {},
   "outputs": [
    {
     "name": "stdout",
     "output_type": "stream",
     "text": [
      "3\n"
     ]
    }
   ],
   "source": [
    "data = (3,3,3,22,44,55)\n",
    "print(data.count(3))"
   ]
  },
  {
   "cell_type": "code",
   "execution_count": 21,
   "metadata": {},
   "outputs": [
    {
     "data": {
      "text/plain": [
       "3"
      ]
     },
     "execution_count": 21,
     "metadata": {},
     "output_type": "execute_result"
    }
   ],
   "source": [
    "# index()\n",
    "data.index(22)"
   ]
  },
  {
   "cell_type": "code",
   "execution_count": 22,
   "metadata": {},
   "outputs": [
    {
     "name": "stdout",
     "output_type": "stream",
     "text": [
      "(3, 3, 3, 22, 44, 55, 33, 33, 44, 55)\n"
     ]
    }
   ],
   "source": [
    "print(data+(33,33,44,55))\n"
   ]
  },
  {
   "cell_type": "code",
   "execution_count": 25,
   "metadata": {},
   "outputs": [
    {
     "name": "stdout",
     "output_type": "stream",
     "text": [
      "(3, 3, 3, 22, 44, 55, 3, 3, 3, 22, 44, 55, 3, 3, 3, 22, 44, 55, 3, 3, 3, 22, 44, 55, 3, 3, 3, 22, 44, 55, 3, 3, 3, 22, 44, 55, 3, 3, 3, 22, 44, 55, 3, 3, 3, 22, 44, 55, 3, 3, 3, 22, 44, 55, 3, 3, 3, 22, 44, 55, 3, 3, 3, 22, 44, 55, 3, 3, 3, 22, 44, 55, 3, 3, 3, 22, 44, 55, 3, 3, 3, 22, 44, 55, 3, 3, 3, 22, 44, 55, 3, 3, 3, 22, 44, 55, 3, 3, 3, 22, 44, 55, 3, 3, 3, 22, 44, 55, 3, 3, 3, 22, 44, 55, 3, 3, 3, 22, 44, 55)\n"
     ]
    }
   ],
   "source": [
    "print(data*20)"
   ]
  },
  {
   "cell_type": "code",
   "execution_count": 24,
   "metadata": {},
   "outputs": [
    {
     "name": "stdout",
     "output_type": "stream",
     "text": [
      "3\n",
      "3\n",
      "3\n",
      "22\n",
      "44\n",
      "55\n"
     ]
    }
   ],
   "source": [
    "for i in data:\n",
    "    print(i)"
   ]
  }
 ],
 "metadata": {
  "kernelspec": {
   "display_name": "Python 3",
   "language": "python",
   "name": "python3"
  },
  "language_info": {
   "codemirror_mode": {
    "name": "ipython",
    "version": 3
   },
   "file_extension": ".py",
   "mimetype": "text/x-python",
   "name": "python",
   "nbconvert_exporter": "python",
   "pygments_lexer": "ipython3",
   "version": "3.13.0"
  }
 },
 "nbformat": 4,
 "nbformat_minor": 2
}
