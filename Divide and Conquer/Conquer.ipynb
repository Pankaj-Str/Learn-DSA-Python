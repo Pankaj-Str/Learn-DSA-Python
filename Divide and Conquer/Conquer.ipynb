{
 "cells": [
  {
   "cell_type": "code",
   "execution_count": null,
   "metadata": {},
   "outputs": [],
   "source": [
    "# Algorithm Design:\n",
    "\n",
    "# If the array has only one element, that element is the maximum.\n",
    "# If the array has more than one element, divide it into two halves.\n",
    "# Recursively find the maximum in both halves.\n",
    "# Compare the maximum from both halves and return the overall maximum."
   ]
  },
  {
   "cell_type": "code",
   "execution_count": 1,
   "metadata": {},
   "outputs": [],
   "source": [
    "def find_max_divide_conquer(arr):\n",
    "    # Base case: if the array has only one element, return it as the maximum\n",
    "    if len(arr) == 1:\n",
    "        return arr[0]\n",
    "\n",
    "    # Divide the array into two halves\n",
    "    mid = len(arr) // 2\n",
    "    left_half = arr[:mid]\n",
    "    right_half = arr[mid:]\n",
    "\n",
    "    # Recursively find the maximum in both halves\n",
    "    left_max = find_max_divide_conquer(left_half)\n",
    "    right_max = find_max_divide_conquer(right_half)\n",
    "\n",
    "    # Compare the maximum from both halves and return the overall maximum\n",
    "    return max(left_max, right_max)\n"
   ]
  },
  {
   "cell_type": "code",
   "execution_count": 2,
   "metadata": {},
   "outputs": [
    {
     "name": "stdout",
     "output_type": "stream",
     "text": [
      "The maximum element in the list is: 9\n"
     ]
    }
   ],
   "source": [
    "# Example usage:\n",
    "sample_list = [5, 2, 9, 1, 7, 3]\n",
    "max_value = find_max_divide_conquer(sample_list)\n",
    "print(\"The maximum element in the list is:\", max_value)"
   ]
  }
 ],
 "metadata": {
  "kernelspec": {
   "display_name": "Python 3",
   "language": "python",
   "name": "python3"
  },
  "language_info": {
   "codemirror_mode": {
    "name": "ipython",
    "version": 3
   },
   "file_extension": ".py",
   "mimetype": "text/x-python",
   "name": "python",
   "nbconvert_exporter": "python",
   "pygments_lexer": "ipython3",
   "version": "3.10.8"
  },
  "orig_nbformat": 4
 },
 "nbformat": 4,
 "nbformat_minor": 2
}
