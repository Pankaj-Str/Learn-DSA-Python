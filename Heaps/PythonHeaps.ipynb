{
 "cells": [
  {
   "cell_type": "code",
   "execution_count": 1,
   "metadata": {},
   "outputs": [
    {
     "name": "stdout",
     "output_type": "stream",
     "text": [
      "Min Heap: [1, 2, 7, 3, 5, 8]\n",
      "After Insertion: [1, 2, 4, 3, 5, 8, 7]\n",
      "Smallest Element: 1\n",
      "Updated Heap: [2, 3, 4, 7, 5, 8]\n"
     ]
    }
   ],
   "source": [
    "import heapq\n",
    "\n",
    "# Convert a list into a heap (min heap)\n",
    "my_list = [5, 3, 8, 1, 2, 7]\n",
    "heapq.heapify(my_list)\n",
    "\n",
    "print(\"Min Heap:\", my_list)  # Output: Min Heap: [1, 2, 7, 5, 3, 8]\n",
    "\n",
    "# Insert an element into the heap\n",
    "heapq.heappush(my_list, 4)\n",
    "\n",
    "print(\"After Insertion:\", my_list)  # Output: After Insertion: [1, 2, 4, 5, 3, 8, 7]\n",
    "\n",
    "# Extract the smallest element (root) from the heap\n",
    "min_element = heapq.heappop(my_list)\n",
    "\n",
    "print(\"Smallest Element:\", min_element)  # Output: Smallest Element: 1\n",
    "print(\"Updated Heap:\", my_list)  # Output: Updated Heap: [2, 3, 4, 5, 7, 8]\n"
   ]
  },
  {
   "cell_type": "code",
   "execution_count": 1,
   "metadata": {},
   "outputs": [
    {
     "name": "stdout",
     "output_type": "stream",
     "text": [
      "Min Heap: [1, 2, 7, 5, 3, 8]\n",
      "Extracted Smallest Element: 1\n",
      "Updated Heap: [2, 3, 7, 5, 8]\n",
      "Smallest Element (without pop): 2\n",
      "Min Heap from List: [2, 4, 6, 9, 5]\n"
     ]
    }
   ],
   "source": [
    "import heapq\n",
    "\n",
    "# Create an empty list to simulate a min heap\n",
    "min_heap = []\n",
    "\n",
    "# Insert elements into the heap\n",
    "heapq.heappush(min_heap, 5)\n",
    "heapq.heappush(min_heap, 3)\n",
    "heapq.heappush(min_heap, 8)\n",
    "heapq.heappush(min_heap, 1)\n",
    "heapq.heappush(min_heap, 2)\n",
    "heapq.heappush(min_heap, 7)\n",
    "\n",
    "print(\"Min Heap:\", min_heap)  # Output: Min Heap: [1, 2, 7, 5, 3, 8]\n",
    "\n",
    "# Extract the smallest element (root) from the heap\n",
    "min_element = heapq.heappop(min_heap)\n",
    "print(\"Extracted Smallest Element:\", min_element)  # Output: Extracted Smallest Element: 1\n",
    "\n",
    "print(\"Updated Heap:\", min_heap)  # Output: Updated Heap: [2, 3, 7, 5, 8]\n",
    "\n",
    "# Get the smallest element without removing it from the heap\n",
    "smallest_element = min_heap[0]\n",
    "print(\"Smallest Element (without pop):\", smallest_element)  # Output: Smallest Element (without pop): 2\n",
    "\n",
    "# Convert a regular list to a heap\n",
    "my_list = [9, 4, 6, 2, 5]\n",
    "heapq.heapify(my_list)\n",
    "\n",
    "print(\"Min Heap from List:\", my_list)  # Output: Min Heap from List: [2, 4, 6, 9, 5]\n"
   ]
  }
 ],
 "metadata": {
  "kernelspec": {
   "display_name": "Python 3",
   "language": "python",
   "name": "python3"
  },
  "language_info": {
   "codemirror_mode": {
    "name": "ipython",
    "version": 3
   },
   "file_extension": ".py",
   "mimetype": "text/x-python",
   "name": "python",
   "nbconvert_exporter": "python",
   "pygments_lexer": "ipython3",
   "version": "3.10.8"
  },
  "orig_nbformat": 4
 },
 "nbformat": 4,
 "nbformat_minor": 2
}
