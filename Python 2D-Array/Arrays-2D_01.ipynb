{
 "cells": [
  {
   "cell_type": "code",
   "execution_count": 3,
   "metadata": {},
   "outputs": [
    {
     "name": "stdout",
     "output_type": "stream",
     "text": [
      "[[11, 12, 13, 14], [15, 16, 17], [18, 19, 20, 21], [22, 23, 24, 25]]\n",
      "[11, 12, 13, 14]\n",
      "17\n"
     ]
    }
   ],
   "source": [
    "from array import *\n",
    "data = [[11,12,13,14],[15,16,17],[18,19,20,21],[22,23,24,25]]\n",
    "\n",
    "print(data)\n",
    "# access item from array \n",
    "print(data[0])\n",
    "# access item from array \n",
    "print(data[1][2])"
   ]
  },
  {
   "cell_type": "code",
   "execution_count": 4,
   "metadata": {},
   "outputs": [
    {
     "name": "stdout",
     "output_type": "stream",
     "text": [
      "11 12 13 14 \n",
      "15 16 17 \n",
      "18 19 20 21 \n",
      "22 23 24 25 \n"
     ]
    }
   ],
   "source": [
    "# print complete array \n",
    "\n",
    "for i in data:\n",
    "    for n in i:\n",
    "        print(n,end=\" \")\n",
    "    print()    "
   ]
  },
  {
   "cell_type": "code",
   "execution_count": 6,
   "metadata": {},
   "outputs": [
    {
     "name": "stdout",
     "output_type": "stream",
     "text": [
      "1\n",
      "6\n",
      "[[1, 2, 3], [4, 5, 6], [7, 10, 9]]\n"
     ]
    }
   ],
   "source": [
    "# Create a 2D array using Lists of lists\n",
    "two_d_array=[\n",
    "    [1,2,3],\n",
    "    [4,5,6],\n",
    "    [7,8,9]\n",
    "]\n",
    "# accessing elements in the 2D array\n",
    "print(two_d_array[0][0])\n",
    "print(two_d_array[1][2])\n",
    "\n",
    "# Modifying Elements in the 2D array \n",
    "two_d_array[2][1] = 10\n",
    "print(two_d_array)"
   ]
  },
  {
   "cell_type": "code",
   "execution_count": 7,
   "metadata": {},
   "outputs": [
    {
     "name": "stdout",
     "output_type": "stream",
     "text": [
      "1\n",
      "6\n",
      "[[ 1  2  3]\n",
      " [ 4  5  6]\n",
      " [ 7 10  9]]\n"
     ]
    }
   ],
   "source": [
    "# you can create a 2D array using NumPy:\n",
    "import numpy as np\n",
    "\n",
    "# Create a 2D array using NumPy\n",
    "two_d_array_np = np.array([\n",
    "    [1, 2, 3],\n",
    "    [4, 5, 6],\n",
    "    [7, 8, 9]\n",
    "])\n",
    "\n",
    "# Accessing elements in the 2D array\n",
    "print(two_d_array_np[0, 0])  # Output: 1\n",
    "print(two_d_array_np[1, 2])  # Output: 6\n",
    "\n",
    "# Modifying elements in the 2D array\n",
    "two_d_array_np[2, 1] = 10\n",
    "print(two_d_array_np)\n",
    "# Output:\n",
    "# [[ 1  2  3]\n",
    "#  [ 4  5  6]\n",
    "#  [ 7 10  9]]\n"
   ]
  }
 ],
 "metadata": {
  "kernelspec": {
   "display_name": "Python 3",
   "language": "python",
   "name": "python3"
  },
  "language_info": {
   "codemirror_mode": {
    "name": "ipython",
    "version": 3
   },
   "file_extension": ".py",
   "mimetype": "text/x-python",
   "name": "python",
   "nbconvert_exporter": "python",
   "pygments_lexer": "ipython3",
   "version": "3.10.8"
  },
  "orig_nbformat": 4
 },
 "nbformat": 4,
 "nbformat_minor": 2
}
