{
 "cells": [
  {
   "cell_type": "code",
   "execution_count": 1,
   "metadata": {},
   "outputs": [
    {
     "name": "stdout",
     "output_type": "stream",
     "text": [
      "1 2 3 "
     ]
    }
   ],
   "source": [
    "# Linked list implementation in Python\n",
    "\n",
    "class Node:\n",
    "    # Creating a node\n",
    "    def __init__(self, item):\n",
    "        self.item = item\n",
    "        self.next = None\n",
    "\n",
    "class LinkedList:\n",
    "\n",
    "    def __init__(self):\n",
    "        self.head = None\n",
    "\n",
    "if __name__ == '__main__':\n",
    "\n",
    "    linked_list = LinkedList()\n",
    "\n",
    "    # Assign item values\n",
    "    linked_list.head = Node(1)\n",
    "    second = Node(2)\n",
    "    third = Node(3)\n",
    "\n",
    "    # Connect nodes\n",
    "    linked_list.head.next = second\n",
    "    second.next = third\n",
    "\n",
    "    # Print the linked list item\n",
    "    while linked_list.head != None:\n",
    "        print(linked_list.head.item, end=\" \")\n",
    "        linked_list.head = linked_list.head.next"
   ]
  }
 ],
 "metadata": {
  "kernelspec": {
   "display_name": "Python 3",
   "language": "python",
   "name": "python3"
  },
  "language_info": {
   "codemirror_mode": {
    "name": "ipython",
    "version": 3
   },
   "file_extension": ".py",
   "mimetype": "text/x-python",
   "name": "python",
   "nbconvert_exporter": "python",
   "pygments_lexer": "ipython3",
   "version": "3.10.8"
  },
  "orig_nbformat": 4
 },
 "nbformat": 4,
 "nbformat_minor": 2
}
